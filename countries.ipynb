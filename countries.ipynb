{
 "cells": [
  {
   "cell_type": "code",
   "execution_count": 1,
   "metadata": {},
   "outputs": [
    {
     "data": {
      "text/html": [
       "<div>\n",
       "<style scoped>\n",
       "    .dataframe tbody tr th:only-of-type {\n",
       "        vertical-align: middle;\n",
       "    }\n",
       "\n",
       "    .dataframe tbody tr th {\n",
       "        vertical-align: top;\n",
       "    }\n",
       "\n",
       "    .dataframe thead th {\n",
       "        text-align: right;\n",
       "    }\n",
       "</style>\n",
       "<table border=\"1\" class=\"dataframe\">\n",
       "  <thead>\n",
       "    <tr style=\"text-align: right;\">\n",
       "      <th></th>\n",
       "      <th>Country</th>\n",
       "      <th>Name</th>\n",
       "      <th>GDPPC</th>\n",
       "      <th>Literacy</th>\n",
       "      <th>InfantMortality</th>\n",
       "      <th>Agriculture</th>\n",
       "      <th>Population</th>\n",
       "      <th>NetMigration</th>\n",
       "    </tr>\n",
       "  </thead>\n",
       "  <tbody>\n",
       "    <tr>\n",
       "      <th>0</th>\n",
       "      <td>1</td>\n",
       "      <td>Albania</td>\n",
       "      <td>3965</td>\n",
       "      <td>0.987</td>\n",
       "      <td>14.0</td>\n",
       "      <td>0.227</td>\n",
       "      <td>3038594</td>\n",
       "      <td>-3.3</td>\n",
       "    </tr>\n",
       "    <tr>\n",
       "      <th>1</th>\n",
       "      <td>2</td>\n",
       "      <td>Algeria</td>\n",
       "      <td>4206</td>\n",
       "      <td>0.800</td>\n",
       "      <td>27.7</td>\n",
       "      <td>0.107</td>\n",
       "      <td>39670000</td>\n",
       "      <td>-0.9</td>\n",
       "    </tr>\n",
       "    <tr>\n",
       "      <th>2</th>\n",
       "      <td>3</td>\n",
       "      <td>Andorra</td>\n",
       "      <td>42500</td>\n",
       "      <td>1.000</td>\n",
       "      <td>3.6</td>\n",
       "      <td>0.006</td>\n",
       "      <td>86165</td>\n",
       "      <td>0.0</td>\n",
       "    </tr>\n",
       "    <tr>\n",
       "      <th>3</th>\n",
       "      <td>4</td>\n",
       "      <td>Angola</td>\n",
       "      <td>4102</td>\n",
       "      <td>0.711</td>\n",
       "      <td>76.5</td>\n",
       "      <td>0.050</td>\n",
       "      <td>25020000</td>\n",
       "      <td>-0.1</td>\n",
       "    </tr>\n",
       "    <tr>\n",
       "      <th>4</th>\n",
       "      <td>5</td>\n",
       "      <td>Anguilla</td>\n",
       "      <td>8800</td>\n",
       "      <td>0.950</td>\n",
       "      <td>3.4</td>\n",
       "      <td>0.029</td>\n",
       "      <td>15000</td>\n",
       "      <td>11.9</td>\n",
       "    </tr>\n",
       "  </tbody>\n",
       "</table>\n",
       "</div>"
      ],
      "text/plain": [
       "   Country      Name  GDPPC  Literacy  InfantMortality  Agriculture  \\\n",
       "0        1   Albania   3965     0.987             14.0        0.227   \n",
       "1        2   Algeria   4206     0.800             27.7        0.107   \n",
       "2        3   Andorra  42500     1.000              3.6        0.006   \n",
       "3        4    Angola   4102     0.711             76.5        0.050   \n",
       "4        5  Anguilla   8800     0.950              3.4        0.029   \n",
       "\n",
       "   Population  NetMigration  \n",
       "0     3038594          -3.3  \n",
       "1    39670000          -0.9  \n",
       "2       86165           0.0  \n",
       "3    25020000          -0.1  \n",
       "4       15000          11.9  "
      ]
     },
     "execution_count": 1,
     "metadata": {},
     "output_type": "execute_result"
    }
   ],
   "source": [
    "import pandas as pd\n",
    "import matplotlib.pyplot as plt\n",
    "filename = \"countries.csv\"\n",
    "df= pd.read_csv(filename)\n",
    "df.head()"
   ]
  },
  {
   "cell_type": "markdown",
   "metadata": {},
   "source": [
    "## Getting Info about DataFrame"
   ]
  },
  {
   "cell_type": "code",
   "execution_count": 2,
   "metadata": {},
   "outputs": [
    {
     "data": {
      "text/plain": [
       "Index(['Country', 'Name', 'GDPPC', 'Literacy', 'InfantMortality',\n",
       "       'Agriculture', 'Population', 'NetMigration'],\n",
       "      dtype='object')"
      ]
     },
     "execution_count": 2,
     "metadata": {},
     "output_type": "execute_result"
    }
   ],
   "source": [
    "df.columns"
   ]
  },
  {
   "cell_type": "code",
   "execution_count": 9,
   "metadata": {},
   "outputs": [
    {
     "data": {
      "text/plain": [
       "(170, 8)"
      ]
     },
     "execution_count": 9,
     "metadata": {},
     "output_type": "execute_result"
    }
   ],
   "source": [
    "df.shape"
   ]
  },
  {
   "cell_type": "code",
   "execution_count": 10,
   "metadata": {},
   "outputs": [
    {
     "data": {
      "text/plain": [
       "2"
      ]
     },
     "execution_count": 10,
     "metadata": {},
     "output_type": "execute_result"
    }
   ],
   "source": [
    "df.ndim"
   ]
  },
  {
   "cell_type": "code",
   "execution_count": 11,
   "metadata": {},
   "outputs": [
    {
     "data": {
      "text/plain": [
       "1360"
      ]
     },
     "execution_count": 11,
     "metadata": {},
     "output_type": "execute_result"
    }
   ],
   "source": [
    "df.size"
   ]
  },
  {
   "cell_type": "code",
   "execution_count": 12,
   "metadata": {},
   "outputs": [
    {
     "data": {
      "text/plain": [
       "[RangeIndex(start=0, stop=170, step=1),\n",
       " Index(['Country', 'Name', 'GDPPC', 'Literacy', 'InfantMortality',\n",
       "        'Agriculture', 'Population', 'NetMigration'],\n",
       "       dtype='object')]"
      ]
     },
     "execution_count": 12,
     "metadata": {},
     "output_type": "execute_result"
    }
   ],
   "source": [
    "df.axes"
   ]
  },
  {
   "cell_type": "markdown",
   "metadata": {},
   "source": [
    "### Countries with GDPPC is more than 20000 and less than 10000\n"
   ]
  },
  {
   "cell_type": "code",
   "execution_count": 37,
   "metadata": {},
   "outputs": [
    {
     "data": {
      "text/plain": [
       "(38, 4)"
      ]
     },
     "execution_count": 37,
     "metadata": {},
     "output_type": "execute_result"
    }
   ],
   "source": [
    "rich_countries = df.loc[ df.GDPPC > 20000, ['Name','GDPPC','Population','Literacy']]\n",
    "rich_countries.shape"
   ]
  },
  {
   "cell_type": "code",
   "execution_count": 36,
   "metadata": {},
   "outputs": [
    {
     "data": {
      "text/plain": [
       "(110, 4)"
      ]
     },
     "execution_count": 36,
     "metadata": {},
     "output_type": "execute_result"
    }
   ],
   "source": [
    "poor_countries = df.loc[ df.GDPPC < 10000, ['Name','GDPPC','Population','Literacy']]\n",
    "poor_countries.shape"
   ]
  },
  {
   "cell_type": "code",
   "execution_count": 21,
   "metadata": {},
   "outputs": [
    {
     "data": {
      "text/html": [
       "<div>\n",
       "<style scoped>\n",
       "    .dataframe tbody tr th:only-of-type {\n",
       "        vertical-align: middle;\n",
       "    }\n",
       "\n",
       "    .dataframe tbody tr th {\n",
       "        vertical-align: top;\n",
       "    }\n",
       "\n",
       "    .dataframe thead th {\n",
       "        text-align: right;\n",
       "    }\n",
       "</style>\n",
       "<table border=\"1\" class=\"dataframe\">\n",
       "  <thead>\n",
       "    <tr style=\"text-align: right;\">\n",
       "      <th></th>\n",
       "      <th>Name</th>\n",
       "      <th>GDPPC</th>\n",
       "      <th>Population</th>\n",
       "    </tr>\n",
       "  </thead>\n",
       "  <tbody>\n",
       "    <tr>\n",
       "      <th>104</th>\n",
       "      <td>Monaco</td>\n",
       "      <td>163352</td>\n",
       "      <td>37731</td>\n",
       "    </tr>\n",
       "    <tr>\n",
       "      <th>90</th>\n",
       "      <td>Liechtenstein</td>\n",
       "      <td>149161</td>\n",
       "      <td>37531</td>\n",
       "    </tr>\n",
       "    <tr>\n",
       "      <th>92</th>\n",
       "      <td>Luxembourg</td>\n",
       "      <td>101450</td>\n",
       "      <td>569676</td>\n",
       "    </tr>\n",
       "    <tr>\n",
       "      <th>18</th>\n",
       "      <td>Bermuda</td>\n",
       "      <td>85748</td>\n",
       "      <td>65235</td>\n",
       "    </tr>\n",
       "    <tr>\n",
       "      <th>150</th>\n",
       "      <td>Switzerland</td>\n",
       "      <td>80215</td>\n",
       "      <td>8287000</td>\n",
       "    </tr>\n",
       "    <tr>\n",
       "      <th>116</th>\n",
       "      <td>Norway</td>\n",
       "      <td>74735</td>\n",
       "      <td>5196000</td>\n",
       "    </tr>\n",
       "    <tr>\n",
       "      <th>127</th>\n",
       "      <td>Qatar</td>\n",
       "      <td>74667</td>\n",
       "      <td>2235000</td>\n",
       "    </tr>\n",
       "    <tr>\n",
       "      <th>29</th>\n",
       "      <td>Cayman Islands</td>\n",
       "      <td>64105</td>\n",
       "      <td>59967</td>\n",
       "    </tr>\n",
       "    <tr>\n",
       "      <th>7</th>\n",
       "      <td>Australia</td>\n",
       "      <td>56328</td>\n",
       "      <td>23780000</td>\n",
       "    </tr>\n",
       "    <tr>\n",
       "      <th>162</th>\n",
       "      <td>United States</td>\n",
       "      <td>55837</td>\n",
       "      <td>321400000</td>\n",
       "    </tr>\n",
       "    <tr>\n",
       "      <th>138</th>\n",
       "      <td>Singapore</td>\n",
       "      <td>52889</td>\n",
       "      <td>5535000</td>\n",
       "    </tr>\n",
       "    <tr>\n",
       "      <th>42</th>\n",
       "      <td>Denmark</td>\n",
       "      <td>52002</td>\n",
       "      <td>5676000</td>\n",
       "    </tr>\n",
       "    <tr>\n",
       "      <th>149</th>\n",
       "      <td>Sweden</td>\n",
       "      <td>50273</td>\n",
       "      <td>9799000</td>\n",
       "    </tr>\n",
       "    <tr>\n",
       "      <th>69</th>\n",
       "      <td>Iceland</td>\n",
       "      <td>50173</td>\n",
       "      <td>330823</td>\n",
       "    </tr>\n",
       "    <tr>\n",
       "      <th>111</th>\n",
       "      <td>Netherlands</td>\n",
       "      <td>44433</td>\n",
       "      <td>16940000</td>\n",
       "    </tr>\n",
       "    <tr>\n",
       "      <th>8</th>\n",
       "      <td>Austria</td>\n",
       "      <td>43439</td>\n",
       "      <td>8611000</td>\n",
       "    </tr>\n",
       "    <tr>\n",
       "      <th>28</th>\n",
       "      <td>Canada</td>\n",
       "      <td>43249</td>\n",
       "      <td>35850000</td>\n",
       "    </tr>\n",
       "    <tr>\n",
       "      <th>2</th>\n",
       "      <td>Andorra</td>\n",
       "      <td>42500</td>\n",
       "      <td>86165</td>\n",
       "    </tr>\n",
       "    <tr>\n",
       "      <th>54</th>\n",
       "      <td>Finland</td>\n",
       "      <td>41921</td>\n",
       "      <td>5482000</td>\n",
       "    </tr>\n",
       "    <tr>\n",
       "      <th>59</th>\n",
       "      <td>Germany</td>\n",
       "      <td>41219</td>\n",
       "      <td>81410000</td>\n",
       "    </tr>\n",
       "    <tr>\n",
       "      <th>161</th>\n",
       "      <td>United Arab Emirates</td>\n",
       "      <td>40438</td>\n",
       "      <td>9157000</td>\n",
       "    </tr>\n",
       "    <tr>\n",
       "      <th>15</th>\n",
       "      <td>Belgium</td>\n",
       "      <td>40231</td>\n",
       "      <td>11290000</td>\n",
       "    </tr>\n",
       "    <tr>\n",
       "      <th>112</th>\n",
       "      <td>New Zealand</td>\n",
       "      <td>37809</td>\n",
       "      <td>4596000</td>\n",
       "    </tr>\n",
       "    <tr>\n",
       "      <th>55</th>\n",
       "      <td>France</td>\n",
       "      <td>36248</td>\n",
       "      <td>66810000</td>\n",
       "    </tr>\n",
       "    <tr>\n",
       "      <th>74</th>\n",
       "      <td>Israel</td>\n",
       "      <td>35330</td>\n",
       "      <td>8380000</td>\n",
       "    </tr>\n",
       "    <tr>\n",
       "      <th>78</th>\n",
       "      <td>Japan</td>\n",
       "      <td>32477</td>\n",
       "      <td>127000000</td>\n",
       "    </tr>\n",
       "    <tr>\n",
       "      <th>75</th>\n",
       "      <td>Italy</td>\n",
       "      <td>29847</td>\n",
       "      <td>60800000</td>\n",
       "    </tr>\n",
       "    <tr>\n",
       "      <th>83</th>\n",
       "      <td>Kuwait</td>\n",
       "      <td>28985</td>\n",
       "      <td>3892000</td>\n",
       "    </tr>\n",
       "    <tr>\n",
       "      <th>126</th>\n",
       "      <td>Puerto Rico</td>\n",
       "      <td>28704</td>\n",
       "      <td>3474000</td>\n",
       "    </tr>\n",
       "    <tr>\n",
       "      <th>144</th>\n",
       "      <td>South Korea</td>\n",
       "      <td>27222</td>\n",
       "      <td>50620000</td>\n",
       "    </tr>\n",
       "    <tr>\n",
       "      <th>145</th>\n",
       "      <td>Spain</td>\n",
       "      <td>25832</td>\n",
       "      <td>46560000</td>\n",
       "    </tr>\n",
       "    <tr>\n",
       "      <th>99</th>\n",
       "      <td>Martinique</td>\n",
       "      <td>24118</td>\n",
       "      <td>386486</td>\n",
       "    </tr>\n",
       "    <tr>\n",
       "      <th>11</th>\n",
       "      <td>Bahrain</td>\n",
       "      <td>23396</td>\n",
       "      <td>1377000</td>\n",
       "    </tr>\n",
       "    <tr>\n",
       "      <th>39</th>\n",
       "      <td>Cyprus</td>\n",
       "      <td>22957</td>\n",
       "      <td>1165000</td>\n",
       "    </tr>\n",
       "    <tr>\n",
       "      <th>10</th>\n",
       "      <td>Bahamas</td>\n",
       "      <td>22897</td>\n",
       "      <td>388019</td>\n",
       "    </tr>\n",
       "    <tr>\n",
       "      <th>98</th>\n",
       "      <td>Malta</td>\n",
       "      <td>22776</td>\n",
       "      <td>431333</td>\n",
       "    </tr>\n",
       "    <tr>\n",
       "      <th>140</th>\n",
       "      <td>Slovenia</td>\n",
       "      <td>20713</td>\n",
       "      <td>2064000</td>\n",
       "    </tr>\n",
       "    <tr>\n",
       "      <th>133</th>\n",
       "      <td>Saudi Arabia</td>\n",
       "      <td>20482</td>\n",
       "      <td>31540000</td>\n",
       "    </tr>\n",
       "  </tbody>\n",
       "</table>\n",
       "</div>"
      ],
      "text/plain": [
       "                     Name   GDPPC  Population\n",
       "104                Monaco  163352       37731\n",
       "90          Liechtenstein  149161       37531\n",
       "92             Luxembourg  101450      569676\n",
       "18                Bermuda   85748       65235\n",
       "150           Switzerland   80215     8287000\n",
       "116                Norway   74735     5196000\n",
       "127                 Qatar   74667     2235000\n",
       "29         Cayman Islands   64105       59967\n",
       "7               Australia   56328    23780000\n",
       "162         United States   55837   321400000\n",
       "138             Singapore   52889     5535000\n",
       "42                Denmark   52002     5676000\n",
       "149                Sweden   50273     9799000\n",
       "69                Iceland   50173      330823\n",
       "111           Netherlands   44433    16940000\n",
       "8                 Austria   43439     8611000\n",
       "28                 Canada   43249    35850000\n",
       "2                 Andorra   42500       86165\n",
       "54                Finland   41921     5482000\n",
       "59                Germany   41219    81410000\n",
       "161  United Arab Emirates   40438     9157000\n",
       "15                Belgium   40231    11290000\n",
       "112           New Zealand   37809     4596000\n",
       "55                 France   36248    66810000\n",
       "74                 Israel   35330     8380000\n",
       "78                  Japan   32477   127000000\n",
       "75                  Italy   29847    60800000\n",
       "83                 Kuwait   28985     3892000\n",
       "126           Puerto Rico   28704     3474000\n",
       "144           South Korea   27222    50620000\n",
       "145                 Spain   25832    46560000\n",
       "99             Martinique   24118      386486\n",
       "11                Bahrain   23396     1377000\n",
       "39                 Cyprus   22957     1165000\n",
       "10                Bahamas   22897      388019\n",
       "98                  Malta   22776      431333\n",
       "140              Slovenia   20713     2064000\n",
       "133          Saudi Arabia   20482    31540000"
      ]
     },
     "execution_count": 21,
     "metadata": {},
     "output_type": "execute_result"
    }
   ],
   "source": [
    "rich_countries.sort_values('GDPPC', ascending=False)"
   ]
  },
  {
   "cell_type": "code",
   "execution_count": 33,
   "metadata": {},
   "outputs": [
    {
     "data": {
      "text/plain": [
       "0.9774473684210526"
      ]
     },
     "execution_count": 33,
     "metadata": {},
     "output_type": "execute_result"
    }
   ],
   "source": [
    "rich_countries['Literacy'].mean()"
   ]
  },
  {
   "cell_type": "code",
   "execution_count": 38,
   "metadata": {},
   "outputs": [
    {
     "data": {
      "text/plain": [
       "0.7866818181818181"
      ]
     },
     "execution_count": 38,
     "metadata": {},
     "output_type": "execute_result"
    }
   ],
   "source": [
    "poor_countries['Literacy'].mean()"
   ]
  },
  {
   "cell_type": "code",
   "execution_count": 41,
   "metadata": {},
   "outputs": [],
   "source": [
    "populous_countries = df[ df.Population > 1000000 * 100 ]"
   ]
  },
  {
   "cell_type": "code",
   "execution_count": 42,
   "metadata": {},
   "outputs": [
    {
     "data": {
      "text/html": [
       "<div>\n",
       "<style scoped>\n",
       "    .dataframe tbody tr th:only-of-type {\n",
       "        vertical-align: middle;\n",
       "    }\n",
       "\n",
       "    .dataframe tbody tr th {\n",
       "        vertical-align: top;\n",
       "    }\n",
       "\n",
       "    .dataframe thead th {\n",
       "        text-align: right;\n",
       "    }\n",
       "</style>\n",
       "<table border=\"1\" class=\"dataframe\">\n",
       "  <thead>\n",
       "    <tr style=\"text-align: right;\">\n",
       "      <th></th>\n",
       "      <th>Country</th>\n",
       "      <th>Name</th>\n",
       "      <th>GDPPC</th>\n",
       "      <th>Literacy</th>\n",
       "      <th>InfantMortality</th>\n",
       "      <th>Agriculture</th>\n",
       "      <th>Population</th>\n",
       "      <th>NetMigration</th>\n",
       "    </tr>\n",
       "  </thead>\n",
       "  <tbody>\n",
       "    <tr>\n",
       "      <th>33</th>\n",
       "      <td>34</td>\n",
       "      <td>China</td>\n",
       "      <td>7925</td>\n",
       "      <td>0.982</td>\n",
       "      <td>12.2</td>\n",
       "      <td>0.095</td>\n",
       "      <td>1371000000</td>\n",
       "      <td>-0.4</td>\n",
       "    </tr>\n",
       "    <tr>\n",
       "      <th>70</th>\n",
       "      <td>71</td>\n",
       "      <td>India</td>\n",
       "      <td>1582</td>\n",
       "      <td>0.712</td>\n",
       "      <td>40.5</td>\n",
       "      <td>0.170</td>\n",
       "      <td>1311000000</td>\n",
       "      <td>0.0</td>\n",
       "    </tr>\n",
       "    <tr>\n",
       "      <th>162</th>\n",
       "      <td>163</td>\n",
       "      <td>United States</td>\n",
       "      <td>55837</td>\n",
       "      <td>0.860</td>\n",
       "      <td>5.8</td>\n",
       "      <td>0.011</td>\n",
       "      <td>321400000</td>\n",
       "      <td>3.9</td>\n",
       "    </tr>\n",
       "    <tr>\n",
       "      <th>71</th>\n",
       "      <td>72</td>\n",
       "      <td>Indonesia</td>\n",
       "      <td>3346</td>\n",
       "      <td>0.939</td>\n",
       "      <td>23.5</td>\n",
       "      <td>0.137</td>\n",
       "      <td>257600000</td>\n",
       "      <td>-1.2</td>\n",
       "    </tr>\n",
       "    <tr>\n",
       "      <th>22</th>\n",
       "      <td>23</td>\n",
       "      <td>Brazil</td>\n",
       "      <td>8539</td>\n",
       "      <td>0.922</td>\n",
       "      <td>18.0</td>\n",
       "      <td>0.056</td>\n",
       "      <td>207800000</td>\n",
       "      <td>-0.1</td>\n",
       "    </tr>\n",
       "    <tr>\n",
       "      <th>118</th>\n",
       "      <td>119</td>\n",
       "      <td>Pakistan</td>\n",
       "      <td>1429</td>\n",
       "      <td>0.579</td>\n",
       "      <td>53.9</td>\n",
       "      <td>0.251</td>\n",
       "      <td>188900000</td>\n",
       "      <td>-1.4</td>\n",
       "    </tr>\n",
       "    <tr>\n",
       "      <th>115</th>\n",
       "      <td>116</td>\n",
       "      <td>Nigeria</td>\n",
       "      <td>2640</td>\n",
       "      <td>0.596</td>\n",
       "      <td>71.2</td>\n",
       "      <td>0.202</td>\n",
       "      <td>182200000</td>\n",
       "      <td>-0.2</td>\n",
       "    </tr>\n",
       "    <tr>\n",
       "      <th>12</th>\n",
       "      <td>13</td>\n",
       "      <td>Bangladesh</td>\n",
       "      <td>1212</td>\n",
       "      <td>0.615</td>\n",
       "      <td>32.9</td>\n",
       "      <td>0.161</td>\n",
       "      <td>161000000</td>\n",
       "      <td>-2.9</td>\n",
       "    </tr>\n",
       "    <tr>\n",
       "      <th>129</th>\n",
       "      <td>130</td>\n",
       "      <td>Russian Federation</td>\n",
       "      <td>9057</td>\n",
       "      <td>0.997</td>\n",
       "      <td>6.9</td>\n",
       "      <td>0.040</td>\n",
       "      <td>144100000</td>\n",
       "      <td>1.7</td>\n",
       "    </tr>\n",
       "    <tr>\n",
       "      <th>78</th>\n",
       "      <td>79</td>\n",
       "      <td>Japan</td>\n",
       "      <td>32477</td>\n",
       "      <td>0.990</td>\n",
       "      <td>2.0</td>\n",
       "      <td>0.012</td>\n",
       "      <td>127000000</td>\n",
       "      <td>0.0</td>\n",
       "    </tr>\n",
       "    <tr>\n",
       "      <th>102</th>\n",
       "      <td>103</td>\n",
       "      <td>Mexico</td>\n",
       "      <td>9009</td>\n",
       "      <td>0.951</td>\n",
       "      <td>11.9</td>\n",
       "      <td>0.033</td>\n",
       "      <td>127000000</td>\n",
       "      <td>-1.7</td>\n",
       "    </tr>\n",
       "    <tr>\n",
       "      <th>123</th>\n",
       "      <td>124</td>\n",
       "      <td>Philippines</td>\n",
       "      <td>2899</td>\n",
       "      <td>0.963</td>\n",
       "      <td>21.9</td>\n",
       "      <td>0.113</td>\n",
       "      <td>100700000</td>\n",
       "      <td>-2.0</td>\n",
       "    </tr>\n",
       "  </tbody>\n",
       "</table>\n",
       "</div>"
      ],
      "text/plain": [
       "     Country                Name  GDPPC  Literacy  InfantMortality  \\\n",
       "33        34               China   7925     0.982             12.2   \n",
       "70        71               India   1582     0.712             40.5   \n",
       "162      163       United States  55837     0.860              5.8   \n",
       "71        72           Indonesia   3346     0.939             23.5   \n",
       "22        23              Brazil   8539     0.922             18.0   \n",
       "118      119            Pakistan   1429     0.579             53.9   \n",
       "115      116             Nigeria   2640     0.596             71.2   \n",
       "12        13          Bangladesh   1212     0.615             32.9   \n",
       "129      130  Russian Federation   9057     0.997              6.9   \n",
       "78        79               Japan  32477     0.990              2.0   \n",
       "102      103              Mexico   9009     0.951             11.9   \n",
       "123      124         Philippines   2899     0.963             21.9   \n",
       "\n",
       "     Agriculture  Population  NetMigration  \n",
       "33         0.095  1371000000          -0.4  \n",
       "70         0.170  1311000000           0.0  \n",
       "162        0.011   321400000           3.9  \n",
       "71         0.137   257600000          -1.2  \n",
       "22         0.056   207800000          -0.1  \n",
       "118        0.251   188900000          -1.4  \n",
       "115        0.202   182200000          -0.2  \n",
       "12         0.161   161000000          -2.9  \n",
       "129        0.040   144100000           1.7  \n",
       "78         0.012   127000000           0.0  \n",
       "102        0.033   127000000          -1.7  \n",
       "123        0.113   100700000          -2.0  "
      ]
     },
     "execution_count": 42,
     "metadata": {},
     "output_type": "execute_result"
    }
   ],
   "source": [
    "populous_countries.sort_values('Population', ascending=False)"
   ]
  },
  {
   "cell_type": "markdown",
   "metadata": {},
   "source": [
    "## Bar graph for populous countries "
   ]
  },
  {
   "cell_type": "code",
   "execution_count": 45,
   "metadata": {},
   "outputs": [
    {
     "data": {
      "image/png": "[encoded data removed]",
      "text/plain": [
       "<Figure size 432x288 with 1 Axes>"
      ]
     },
     "metadata": {
      "needs_background": "light"
     },
     "output_type": "display_data"
    }
   ],
   "source": [
    "plt.bar(populous_countries.Name, populous_countries.Population)\n",
    "plt.xticks(rotation='vertical')\n",
    "plt.show()"
   ]
  },
  {
   "cell_type": "code",
   "execution_count": null,
   "metadata": {},
   "outputs": [],
   "source": []
  }
 ],
 "metadata": {
  "kernelspec": {
   "display_name": "Python 3",
   "language": "python",
   "name": "python3"
  },
  "language_info": {
   "codemirror_mode": {
    "name": "ipython",
    "version": 3
   },
   "file_extension": ".py",
   "mimetype": "text/x-python",
   "name": "python",
   "nbconvert_exporter": "python",
   "pygments_lexer": "ipython3",
   "version": "3.7.0"
  }
 },
 "nbformat": 4,
 "nbformat_minor": 2
}

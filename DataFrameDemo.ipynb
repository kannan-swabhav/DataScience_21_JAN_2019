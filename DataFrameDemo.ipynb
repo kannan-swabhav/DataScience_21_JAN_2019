{
 "cells": [
  {
   "cell_type": "code",
   "execution_count": 1,
   "metadata": {},
   "outputs": [],
   "source": [
    "import pandas as pd\n",
    "import numpy as np"
   ]
  },
  {
   "cell_type": "code",
   "execution_count": 2,
   "metadata": {},
   "outputs": [],
   "source": [
    "df = pd.DataFrame(np.arange(9).reshape(3,3))"
   ]
  },
  {
   "cell_type": "code",
   "execution_count": 3,
   "metadata": {},
   "outputs": [
    {
     "data": {
      "text/html": [
       "<div>\n",
       "<style scoped>\n",
       "    .dataframe tbody tr th:only-of-type {\n",
       "        vertical-align: middle;\n",
       "    }\n",
       "\n",
       "    .dataframe tbody tr th {\n",
       "        vertical-align: top;\n",
       "    }\n",
       "\n",
       "    .dataframe thead th {\n",
       "        text-align: right;\n",
       "    }\n",
       "</style>\n",
       "<table border=\"1\" class=\"dataframe\">\n",
       "  <thead>\n",
       "    <tr style=\"text-align: right;\">\n",
       "      <th></th>\n",
       "      <th>0</th>\n",
       "      <th>1</th>\n",
       "      <th>2</th>\n",
       "    </tr>\n",
       "  </thead>\n",
       "  <tbody>\n",
       "    <tr>\n",
       "      <th>0</th>\n",
       "      <td>0</td>\n",
       "      <td>1</td>\n",
       "      <td>2</td>\n",
       "    </tr>\n",
       "    <tr>\n",
       "      <th>1</th>\n",
       "      <td>3</td>\n",
       "      <td>4</td>\n",
       "      <td>5</td>\n",
       "    </tr>\n",
       "    <tr>\n",
       "      <th>2</th>\n",
       "      <td>6</td>\n",
       "      <td>7</td>\n",
       "      <td>8</td>\n",
       "    </tr>\n",
       "  </tbody>\n",
       "</table>\n",
       "</div>"
      ],
      "text/plain": [
       "   0  1  2\n",
       "0  0  1  2\n",
       "1  3  4  5\n",
       "2  6  7  8"
      ]
     },
     "execution_count": 3,
     "metadata": {},
     "output_type": "execute_result"
    }
   ],
   "source": [
    "df"
   ]
  },
  {
   "cell_type": "code",
   "execution_count": 4,
   "metadata": {},
   "outputs": [
    {
     "name": "stdout",
     "output_type": "stream",
     "text": [
      "<class 'pandas.core.frame.DataFrame'>\n",
      "RangeIndex: 3 entries, 0 to 2\n",
      "Data columns (total 3 columns):\n",
      "0    3 non-null int32\n",
      "1    3 non-null int32\n",
      "2    3 non-null int32\n",
      "dtypes: int32(3)\n",
      "memory usage: 116.0 bytes\n"
     ]
    }
   ],
   "source": [
    "df.info()"
   ]
  },
  {
   "cell_type": "code",
   "execution_count": 5,
   "metadata": {},
   "outputs": [],
   "source": [
    "df = pd.DataFrame(np.arange(9).reshape(3,3), columns=list(\"ABC\"))"
   ]
  },
  {
   "cell_type": "code",
   "execution_count": 6,
   "metadata": {},
   "outputs": [
    {
     "data": {
      "text/html": [
       "<div>\n",
       "<style scoped>\n",
       "    .dataframe tbody tr th:only-of-type {\n",
       "        vertical-align: middle;\n",
       "    }\n",
       "\n",
       "    .dataframe tbody tr th {\n",
       "        vertical-align: top;\n",
       "    }\n",
       "\n",
       "    .dataframe thead th {\n",
       "        text-align: right;\n",
       "    }\n",
       "</style>\n",
       "<table border=\"1\" class=\"dataframe\">\n",
       "  <thead>\n",
       "    <tr style=\"text-align: right;\">\n",
       "      <th></th>\n",
       "      <th>A</th>\n",
       "      <th>B</th>\n",
       "      <th>C</th>\n",
       "    </tr>\n",
       "  </thead>\n",
       "  <tbody>\n",
       "    <tr>\n",
       "      <th>0</th>\n",
       "      <td>0</td>\n",
       "      <td>1</td>\n",
       "      <td>2</td>\n",
       "    </tr>\n",
       "    <tr>\n",
       "      <th>1</th>\n",
       "      <td>3</td>\n",
       "      <td>4</td>\n",
       "      <td>5</td>\n",
       "    </tr>\n",
       "    <tr>\n",
       "      <th>2</th>\n",
       "      <td>6</td>\n",
       "      <td>7</td>\n",
       "      <td>8</td>\n",
       "    </tr>\n",
       "  </tbody>\n",
       "</table>\n",
       "</div>"
      ],
      "text/plain": [
       "   A  B  C\n",
       "0  0  1  2\n",
       "1  3  4  5\n",
       "2  6  7  8"
      ]
     },
     "execution_count": 6,
     "metadata": {},
     "output_type": "execute_result"
    }
   ],
   "source": [
    "df"
   ]
  },
  {
   "cell_type": "code",
   "execution_count": 7,
   "metadata": {},
   "outputs": [
    {
     "data": {
      "text/plain": [
       "0    0\n",
       "1    3\n",
       "2    6\n",
       "Name: A, dtype: int32"
      ]
     },
     "execution_count": 7,
     "metadata": {},
     "output_type": "execute_result"
    }
   ],
   "source": [
    "df['A']"
   ]
  },
  {
   "cell_type": "code",
   "execution_count": 8,
   "metadata": {},
   "outputs": [
    {
     "data": {
      "text/html": [
       "<div>\n",
       "<style scoped>\n",
       "    .dataframe tbody tr th:only-of-type {\n",
       "        vertical-align: middle;\n",
       "    }\n",
       "\n",
       "    .dataframe tbody tr th {\n",
       "        vertical-align: top;\n",
       "    }\n",
       "\n",
       "    .dataframe thead th {\n",
       "        text-align: right;\n",
       "    }\n",
       "</style>\n",
       "<table border=\"1\" class=\"dataframe\">\n",
       "  <thead>\n",
       "    <tr style=\"text-align: right;\">\n",
       "      <th></th>\n",
       "      <th>A</th>\n",
       "      <th>C</th>\n",
       "    </tr>\n",
       "  </thead>\n",
       "  <tbody>\n",
       "    <tr>\n",
       "      <th>0</th>\n",
       "      <td>0</td>\n",
       "      <td>2</td>\n",
       "    </tr>\n",
       "    <tr>\n",
       "      <th>1</th>\n",
       "      <td>3</td>\n",
       "      <td>5</td>\n",
       "    </tr>\n",
       "    <tr>\n",
       "      <th>2</th>\n",
       "      <td>6</td>\n",
       "      <td>8</td>\n",
       "    </tr>\n",
       "  </tbody>\n",
       "</table>\n",
       "</div>"
      ],
      "text/plain": [
       "   A  C\n",
       "0  0  2\n",
       "1  3  5\n",
       "2  6  8"
      ]
     },
     "execution_count": 8,
     "metadata": {},
     "output_type": "execute_result"
    }
   ],
   "source": [
    "df[['A','C']]"
   ]
  },
  {
   "cell_type": "code",
   "execution_count": 9,
   "metadata": {},
   "outputs": [
    {
     "data": {
      "text/plain": [
       "3"
      ]
     },
     "execution_count": 9,
     "metadata": {},
     "output_type": "execute_result"
    }
   ],
   "source": [
    "df['A'][1]"
   ]
  },
  {
   "cell_type": "code",
   "execution_count": 10,
   "metadata": {},
   "outputs": [
    {
     "data": {
      "text/plain": [
       "0    0\n",
       "1    3\n",
       "2    6\n",
       "Name: A, dtype: int32"
      ]
     },
     "execution_count": 10,
     "metadata": {},
     "output_type": "execute_result"
    }
   ],
   "source": [
    "df.A  # Not recom."
   ]
  },
  {
   "cell_type": "code",
   "execution_count": 11,
   "metadata": {},
   "outputs": [
    {
     "data": {
      "text/plain": [
       "0    0\n",
       "1    3\n",
       "Name: A, dtype: int32"
      ]
     },
     "execution_count": 11,
     "metadata": {},
     "output_type": "execute_result"
    }
   ],
   "source": [
    "df[:2]['A']"
   ]
  },
  {
   "cell_type": "code",
   "execution_count": 12,
   "metadata": {},
   "outputs": [
    {
     "data": {
      "text/html": [
       "<div>\n",
       "<style scoped>\n",
       "    .dataframe tbody tr th:only-of-type {\n",
       "        vertical-align: middle;\n",
       "    }\n",
       "\n",
       "    .dataframe tbody tr th {\n",
       "        vertical-align: top;\n",
       "    }\n",
       "\n",
       "    .dataframe thead th {\n",
       "        text-align: right;\n",
       "    }\n",
       "</style>\n",
       "<table border=\"1\" class=\"dataframe\">\n",
       "  <thead>\n",
       "    <tr style=\"text-align: right;\">\n",
       "      <th></th>\n",
       "      <th>A</th>\n",
       "      <th>B</th>\n",
       "      <th>C</th>\n",
       "    </tr>\n",
       "  </thead>\n",
       "  <tbody>\n",
       "    <tr>\n",
       "      <th>0</th>\n",
       "      <td>0</td>\n",
       "      <td>1</td>\n",
       "      <td>2</td>\n",
       "    </tr>\n",
       "  </tbody>\n",
       "</table>\n",
       "</div>"
      ],
      "text/plain": [
       "   A  B  C\n",
       "0  0  1  2"
      ]
     },
     "execution_count": 12,
     "metadata": {},
     "output_type": "execute_result"
    }
   ],
   "source": [
    "df[:1][:]"
   ]
  },
  {
   "cell_type": "code",
   "execution_count": 13,
   "metadata": {},
   "outputs": [],
   "source": [
    "sales = pd.read_csv('sales.txt')"
   ]
  },
  {
   "cell_type": "code",
   "execution_count": 14,
   "metadata": {},
   "outputs": [
    {
     "data": {
      "text/html": [
       "<div>\n",
       "<style scoped>\n",
       "    .dataframe tbody tr th:only-of-type {\n",
       "        vertical-align: middle;\n",
       "    }\n",
       "\n",
       "    .dataframe tbody tr th {\n",
       "        vertical-align: top;\n",
       "    }\n",
       "\n",
       "    .dataframe thead th {\n",
       "        text-align: right;\n",
       "    }\n",
       "</style>\n",
       "<table border=\"1\" class=\"dataframe\">\n",
       "  <thead>\n",
       "    <tr style=\"text-align: right;\">\n",
       "      <th></th>\n",
       "      <th>Month</th>\n",
       "      <th>Book</th>\n",
       "      <th>City</th>\n",
       "      <th>Units</th>\n",
       "    </tr>\n",
       "  </thead>\n",
       "  <tbody>\n",
       "    <tr>\n",
       "      <th>0</th>\n",
       "      <td>JAN</td>\n",
       "      <td>B100</td>\n",
       "      <td>VZG</td>\n",
       "      <td>10.0</td>\n",
       "    </tr>\n",
       "    <tr>\n",
       "      <th>1</th>\n",
       "      <td>FEB</td>\n",
       "      <td>B100</td>\n",
       "      <td>VZG</td>\n",
       "      <td>4.0</td>\n",
       "    </tr>\n",
       "    <tr>\n",
       "      <th>2</th>\n",
       "      <td>MAR</td>\n",
       "      <td>B100</td>\n",
       "      <td>VZG</td>\n",
       "      <td>13.0</td>\n",
       "    </tr>\n",
       "    <tr>\n",
       "      <th>3</th>\n",
       "      <td>JAN</td>\n",
       "      <td>B100</td>\n",
       "      <td>HYD</td>\n",
       "      <td>30.0</td>\n",
       "    </tr>\n",
       "    <tr>\n",
       "      <th>4</th>\n",
       "      <td>FEB</td>\n",
       "      <td>B100</td>\n",
       "      <td>HYD</td>\n",
       "      <td>40.0</td>\n",
       "    </tr>\n",
       "    <tr>\n",
       "      <th>5</th>\n",
       "      <td>MAR</td>\n",
       "      <td>B100</td>\n",
       "      <td>HYD</td>\n",
       "      <td>10.0</td>\n",
       "    </tr>\n",
       "    <tr>\n",
       "      <th>6</th>\n",
       "      <td>JAN</td>\n",
       "      <td>B200</td>\n",
       "      <td>VZG</td>\n",
       "      <td>14.0</td>\n",
       "    </tr>\n",
       "    <tr>\n",
       "      <th>7</th>\n",
       "      <td>FEB</td>\n",
       "      <td>B200</td>\n",
       "      <td>HYD</td>\n",
       "      <td>NaN</td>\n",
       "    </tr>\n",
       "    <tr>\n",
       "      <th>8</th>\n",
       "      <td>MAR</td>\n",
       "      <td>B200</td>\n",
       "      <td>NaN</td>\n",
       "      <td>4.0</td>\n",
       "    </tr>\n",
       "  </tbody>\n",
       "</table>\n",
       "</div>"
      ],
      "text/plain": [
       "  Month  Book City  Units\n",
       "0   JAN  B100  VZG   10.0\n",
       "1   FEB  B100  VZG    4.0\n",
       "2   MAR  B100  VZG   13.0\n",
       "3   JAN  B100  HYD   30.0\n",
       "4   FEB  B100  HYD   40.0\n",
       "5   MAR  B100  HYD   10.0\n",
       "6   JAN  B200  VZG   14.0\n",
       "7   FEB  B200  HYD    NaN\n",
       "8   MAR  B200  NaN    4.0"
      ]
     },
     "execution_count": 14,
     "metadata": {},
     "output_type": "execute_result"
    }
   ],
   "source": [
    "sales"
   ]
  },
  {
   "cell_type": "code",
   "execution_count": 15,
   "metadata": {},
   "outputs": [
    {
     "data": {
      "text/html": [
       "<div>\n",
       "<style scoped>\n",
       "    .dataframe tbody tr th:only-of-type {\n",
       "        vertical-align: middle;\n",
       "    }\n",
       "\n",
       "    .dataframe tbody tr th {\n",
       "        vertical-align: top;\n",
       "    }\n",
       "\n",
       "    .dataframe thead th {\n",
       "        text-align: right;\n",
       "    }\n",
       "</style>\n",
       "<table border=\"1\" class=\"dataframe\">\n",
       "  <thead>\n",
       "    <tr style=\"text-align: right;\">\n",
       "      <th></th>\n",
       "      <th>Units</th>\n",
       "    </tr>\n",
       "  </thead>\n",
       "  <tbody>\n",
       "    <tr>\n",
       "      <th>count</th>\n",
       "      <td>8.00000</td>\n",
       "    </tr>\n",
       "    <tr>\n",
       "      <th>mean</th>\n",
       "      <td>15.62500</td>\n",
       "    </tr>\n",
       "    <tr>\n",
       "      <th>std</th>\n",
       "      <td>12.78322</td>\n",
       "    </tr>\n",
       "    <tr>\n",
       "      <th>min</th>\n",
       "      <td>4.00000</td>\n",
       "    </tr>\n",
       "    <tr>\n",
       "      <th>25%</th>\n",
       "      <td>8.50000</td>\n",
       "    </tr>\n",
       "    <tr>\n",
       "      <th>50%</th>\n",
       "      <td>11.50000</td>\n",
       "    </tr>\n",
       "    <tr>\n",
       "      <th>75%</th>\n",
       "      <td>18.00000</td>\n",
       "    </tr>\n",
       "    <tr>\n",
       "      <th>max</th>\n",
       "      <td>40.00000</td>\n",
       "    </tr>\n",
       "  </tbody>\n",
       "</table>\n",
       "</div>"
      ],
      "text/plain": [
       "          Units\n",
       "count   8.00000\n",
       "mean   15.62500\n",
       "std    12.78322\n",
       "min     4.00000\n",
       "25%     8.50000\n",
       "50%    11.50000\n",
       "75%    18.00000\n",
       "max    40.00000"
      ]
     },
     "execution_count": 15,
     "metadata": {},
     "output_type": "execute_result"
    }
   ],
   "source": [
    "sales.describe()"
   ]
  },
  {
   "cell_type": "code",
   "execution_count": 16,
   "metadata": {},
   "outputs": [
    {
     "data": {
      "text/html": [
       "<div>\n",
       "<style scoped>\n",
       "    .dataframe tbody tr th:only-of-type {\n",
       "        vertical-align: middle;\n",
       "    }\n",
       "\n",
       "    .dataframe tbody tr th {\n",
       "        vertical-align: top;\n",
       "    }\n",
       "\n",
       "    .dataframe thead th {\n",
       "        text-align: right;\n",
       "    }\n",
       "</style>\n",
       "<table border=\"1\" class=\"dataframe\">\n",
       "  <thead>\n",
       "    <tr style=\"text-align: right;\">\n",
       "      <th></th>\n",
       "      <th>Month</th>\n",
       "      <th>Book</th>\n",
       "      <th>City</th>\n",
       "      <th>Units</th>\n",
       "    </tr>\n",
       "  </thead>\n",
       "  <tbody>\n",
       "    <tr>\n",
       "      <th>count</th>\n",
       "      <td>9</td>\n",
       "      <td>9</td>\n",
       "      <td>8</td>\n",
       "      <td>8.00000</td>\n",
       "    </tr>\n",
       "    <tr>\n",
       "      <th>unique</th>\n",
       "      <td>3</td>\n",
       "      <td>2</td>\n",
       "      <td>2</td>\n",
       "      <td>NaN</td>\n",
       "    </tr>\n",
       "    <tr>\n",
       "      <th>top</th>\n",
       "      <td>MAR</td>\n",
       "      <td>B100</td>\n",
       "      <td>VZG</td>\n",
       "      <td>NaN</td>\n",
       "    </tr>\n",
       "    <tr>\n",
       "      <th>freq</th>\n",
       "      <td>3</td>\n",
       "      <td>6</td>\n",
       "      <td>4</td>\n",
       "      <td>NaN</td>\n",
       "    </tr>\n",
       "    <tr>\n",
       "      <th>mean</th>\n",
       "      <td>NaN</td>\n",
       "      <td>NaN</td>\n",
       "      <td>NaN</td>\n",
       "      <td>15.62500</td>\n",
       "    </tr>\n",
       "    <tr>\n",
       "      <th>std</th>\n",
       "      <td>NaN</td>\n",
       "      <td>NaN</td>\n",
       "      <td>NaN</td>\n",
       "      <td>12.78322</td>\n",
       "    </tr>\n",
       "    <tr>\n",
       "      <th>min</th>\n",
       "      <td>NaN</td>\n",
       "      <td>NaN</td>\n",
       "      <td>NaN</td>\n",
       "      <td>4.00000</td>\n",
       "    </tr>\n",
       "    <tr>\n",
       "      <th>25%</th>\n",
       "      <td>NaN</td>\n",
       "      <td>NaN</td>\n",
       "      <td>NaN</td>\n",
       "      <td>8.50000</td>\n",
       "    </tr>\n",
       "    <tr>\n",
       "      <th>50%</th>\n",
       "      <td>NaN</td>\n",
       "      <td>NaN</td>\n",
       "      <td>NaN</td>\n",
       "      <td>11.50000</td>\n",
       "    </tr>\n",
       "    <tr>\n",
       "      <th>75%</th>\n",
       "      <td>NaN</td>\n",
       "      <td>NaN</td>\n",
       "      <td>NaN</td>\n",
       "      <td>18.00000</td>\n",
       "    </tr>\n",
       "    <tr>\n",
       "      <th>max</th>\n",
       "      <td>NaN</td>\n",
       "      <td>NaN</td>\n",
       "      <td>NaN</td>\n",
       "      <td>40.00000</td>\n",
       "    </tr>\n",
       "  </tbody>\n",
       "</table>\n",
       "</div>"
      ],
      "text/plain": [
       "       Month  Book City     Units\n",
       "count      9     9    8   8.00000\n",
       "unique     3     2    2       NaN\n",
       "top      MAR  B100  VZG       NaN\n",
       "freq       3     6    4       NaN\n",
       "mean     NaN   NaN  NaN  15.62500\n",
       "std      NaN   NaN  NaN  12.78322\n",
       "min      NaN   NaN  NaN   4.00000\n",
       "25%      NaN   NaN  NaN   8.50000\n",
       "50%      NaN   NaN  NaN  11.50000\n",
       "75%      NaN   NaN  NaN  18.00000\n",
       "max      NaN   NaN  NaN  40.00000"
      ]
     },
     "execution_count": 16,
     "metadata": {},
     "output_type": "execute_result"
    }
   ],
   "source": [
    "sales.describe(include='all')"
   ]
  },
  {
   "cell_type": "code",
   "execution_count": 17,
   "metadata": {},
   "outputs": [
    {
     "data": {
      "text/html": [
       "<div>\n",
       "<style scoped>\n",
       "    .dataframe tbody tr th:only-of-type {\n",
       "        vertical-align: middle;\n",
       "    }\n",
       "\n",
       "    .dataframe tbody tr th {\n",
       "        vertical-align: top;\n",
       "    }\n",
       "\n",
       "    .dataframe thead th {\n",
       "        text-align: right;\n",
       "    }\n",
       "</style>\n",
       "<table border=\"1\" class=\"dataframe\">\n",
       "  <thead>\n",
       "    <tr style=\"text-align: right;\">\n",
       "      <th></th>\n",
       "      <th>Month</th>\n",
       "      <th>Book</th>\n",
       "      <th>City</th>\n",
       "      <th>Units</th>\n",
       "    </tr>\n",
       "  </thead>\n",
       "  <tbody>\n",
       "    <tr>\n",
       "      <th>0</th>\n",
       "      <td>JAN</td>\n",
       "      <td>B100</td>\n",
       "      <td>VZG</td>\n",
       "      <td>10.0</td>\n",
       "    </tr>\n",
       "    <tr>\n",
       "      <th>1</th>\n",
       "      <td>FEB</td>\n",
       "      <td>B100</td>\n",
       "      <td>VZG</td>\n",
       "      <td>4.0</td>\n",
       "    </tr>\n",
       "    <tr>\n",
       "      <th>2</th>\n",
       "      <td>MAR</td>\n",
       "      <td>B100</td>\n",
       "      <td>VZG</td>\n",
       "      <td>13.0</td>\n",
       "    </tr>\n",
       "    <tr>\n",
       "      <th>3</th>\n",
       "      <td>JAN</td>\n",
       "      <td>B100</td>\n",
       "      <td>HYD</td>\n",
       "      <td>30.0</td>\n",
       "    </tr>\n",
       "    <tr>\n",
       "      <th>4</th>\n",
       "      <td>FEB</td>\n",
       "      <td>B100</td>\n",
       "      <td>HYD</td>\n",
       "      <td>40.0</td>\n",
       "    </tr>\n",
       "    <tr>\n",
       "      <th>5</th>\n",
       "      <td>MAR</td>\n",
       "      <td>B100</td>\n",
       "      <td>HYD</td>\n",
       "      <td>10.0</td>\n",
       "    </tr>\n",
       "    <tr>\n",
       "      <th>6</th>\n",
       "      <td>JAN</td>\n",
       "      <td>B200</td>\n",
       "      <td>VZG</td>\n",
       "      <td>14.0</td>\n",
       "    </tr>\n",
       "    <tr>\n",
       "      <th>7</th>\n",
       "      <td>FEB</td>\n",
       "      <td>B200</td>\n",
       "      <td>HYD</td>\n",
       "      <td>NaN</td>\n",
       "    </tr>\n",
       "    <tr>\n",
       "      <th>8</th>\n",
       "      <td>MAR</td>\n",
       "      <td>B200</td>\n",
       "      <td>NaN</td>\n",
       "      <td>4.0</td>\n",
       "    </tr>\n",
       "  </tbody>\n",
       "</table>\n",
       "</div>"
      ],
      "text/plain": [
       "  Month  Book City  Units\n",
       "0   JAN  B100  VZG   10.0\n",
       "1   FEB  B100  VZG    4.0\n",
       "2   MAR  B100  VZG   13.0\n",
       "3   JAN  B100  HYD   30.0\n",
       "4   FEB  B100  HYD   40.0\n",
       "5   MAR  B100  HYD   10.0\n",
       "6   JAN  B200  VZG   14.0\n",
       "7   FEB  B200  HYD    NaN\n",
       "8   MAR  B200  NaN    4.0"
      ]
     },
     "execution_count": 17,
     "metadata": {},
     "output_type": "execute_result"
    }
   ],
   "source": [
    "sales"
   ]
  },
  {
   "cell_type": "code",
   "execution_count": 18,
   "metadata": {},
   "outputs": [
    {
     "data": {
      "text/html": [
       "<div>\n",
       "<style scoped>\n",
       "    .dataframe tbody tr th:only-of-type {\n",
       "        vertical-align: middle;\n",
       "    }\n",
       "\n",
       "    .dataframe tbody tr th {\n",
       "        vertical-align: top;\n",
       "    }\n",
       "\n",
       "    .dataframe thead th {\n",
       "        text-align: right;\n",
       "    }\n",
       "</style>\n",
       "<table border=\"1\" class=\"dataframe\">\n",
       "  <thead>\n",
       "    <tr style=\"text-align: right;\">\n",
       "      <th></th>\n",
       "      <th>Month</th>\n",
       "      <th>Book</th>\n",
       "      <th>City</th>\n",
       "      <th>Units</th>\n",
       "    </tr>\n",
       "  </thead>\n",
       "  <tbody>\n",
       "    <tr>\n",
       "      <th>0</th>\n",
       "      <td>JAN</td>\n",
       "      <td>B100</td>\n",
       "      <td>VZG</td>\n",
       "      <td>10.0</td>\n",
       "    </tr>\n",
       "    <tr>\n",
       "      <th>1</th>\n",
       "      <td>FEB</td>\n",
       "      <td>B100</td>\n",
       "      <td>VZG</td>\n",
       "      <td>4.0</td>\n",
       "    </tr>\n",
       "    <tr>\n",
       "      <th>2</th>\n",
       "      <td>MAR</td>\n",
       "      <td>B100</td>\n",
       "      <td>VZG</td>\n",
       "      <td>13.0</td>\n",
       "    </tr>\n",
       "    <tr>\n",
       "      <th>3</th>\n",
       "      <td>JAN</td>\n",
       "      <td>B100</td>\n",
       "      <td>HYD</td>\n",
       "      <td>30.0</td>\n",
       "    </tr>\n",
       "    <tr>\n",
       "      <th>4</th>\n",
       "      <td>FEB</td>\n",
       "      <td>B100</td>\n",
       "      <td>HYD</td>\n",
       "      <td>40.0</td>\n",
       "    </tr>\n",
       "    <tr>\n",
       "      <th>5</th>\n",
       "      <td>MAR</td>\n",
       "      <td>B100</td>\n",
       "      <td>HYD</td>\n",
       "      <td>10.0</td>\n",
       "    </tr>\n",
       "    <tr>\n",
       "      <th>6</th>\n",
       "      <td>JAN</td>\n",
       "      <td>B200</td>\n",
       "      <td>VZG</td>\n",
       "      <td>14.0</td>\n",
       "    </tr>\n",
       "    <tr>\n",
       "      <th>7</th>\n",
       "      <td>FEB</td>\n",
       "      <td>B200</td>\n",
       "      <td>HYD</td>\n",
       "      <td>NaN</td>\n",
       "    </tr>\n",
       "    <tr>\n",
       "      <th>8</th>\n",
       "      <td>MAR</td>\n",
       "      <td>B200</td>\n",
       "      <td>NaN</td>\n",
       "      <td>4.0</td>\n",
       "    </tr>\n",
       "  </tbody>\n",
       "</table>\n",
       "</div>"
      ],
      "text/plain": [
       "  Month  Book City  Units\n",
       "0   JAN  B100  VZG   10.0\n",
       "1   FEB  B100  VZG    4.0\n",
       "2   MAR  B100  VZG   13.0\n",
       "3   JAN  B100  HYD   30.0\n",
       "4   FEB  B100  HYD   40.0\n",
       "5   MAR  B100  HYD   10.0\n",
       "6   JAN  B200  VZG   14.0\n",
       "7   FEB  B200  HYD    NaN\n",
       "8   MAR  B200  NaN    4.0"
      ]
     },
     "execution_count": 18,
     "metadata": {},
     "output_type": "execute_result"
    }
   ],
   "source": [
    "sales"
   ]
  },
  {
   "cell_type": "code",
   "execution_count": 19,
   "metadata": {},
   "outputs": [
    {
     "data": {
      "text/plain": [
       "10.0"
      ]
     },
     "execution_count": 19,
     "metadata": {},
     "output_type": "execute_result"
    }
   ],
   "source": [
    "sales.loc[0,'Units']"
   ]
  },
  {
   "cell_type": "code",
   "execution_count": 20,
   "metadata": {},
   "outputs": [
    {
     "data": {
      "text/html": [
       "<div>\n",
       "<style scoped>\n",
       "    .dataframe tbody tr th:only-of-type {\n",
       "        vertical-align: middle;\n",
       "    }\n",
       "\n",
       "    .dataframe tbody tr th {\n",
       "        vertical-align: top;\n",
       "    }\n",
       "\n",
       "    .dataframe thead th {\n",
       "        text-align: right;\n",
       "    }\n",
       "</style>\n",
       "<table border=\"1\" class=\"dataframe\">\n",
       "  <thead>\n",
       "    <tr style=\"text-align: right;\">\n",
       "      <th></th>\n",
       "      <th>Month</th>\n",
       "      <th>Book</th>\n",
       "      <th>City</th>\n",
       "      <th>Units</th>\n",
       "    </tr>\n",
       "  </thead>\n",
       "  <tbody>\n",
       "    <tr>\n",
       "      <th>0</th>\n",
       "      <td>JAN</td>\n",
       "      <td>B100</td>\n",
       "      <td>VZG</td>\n",
       "      <td>10.0</td>\n",
       "    </tr>\n",
       "    <tr>\n",
       "      <th>1</th>\n",
       "      <td>FEB</td>\n",
       "      <td>B100</td>\n",
       "      <td>VZG</td>\n",
       "      <td>4.0</td>\n",
       "    </tr>\n",
       "    <tr>\n",
       "      <th>2</th>\n",
       "      <td>MAR</td>\n",
       "      <td>B100</td>\n",
       "      <td>VZG</td>\n",
       "      <td>13.0</td>\n",
       "    </tr>\n",
       "    <tr>\n",
       "      <th>3</th>\n",
       "      <td>JAN</td>\n",
       "      <td>B100</td>\n",
       "      <td>HYD</td>\n",
       "      <td>30.0</td>\n",
       "    </tr>\n",
       "    <tr>\n",
       "      <th>4</th>\n",
       "      <td>FEB</td>\n",
       "      <td>B100</td>\n",
       "      <td>HYD</td>\n",
       "      <td>40.0</td>\n",
       "    </tr>\n",
       "  </tbody>\n",
       "</table>\n",
       "</div>"
      ],
      "text/plain": [
       "  Month  Book City  Units\n",
       "0   JAN  B100  VZG   10.0\n",
       "1   FEB  B100  VZG    4.0\n",
       "2   MAR  B100  VZG   13.0\n",
       "3   JAN  B100  HYD   30.0\n",
       "4   FEB  B100  HYD   40.0"
      ]
     },
     "execution_count": 20,
     "metadata": {},
     "output_type": "execute_result"
    }
   ],
   "source": [
    "sales.head()"
   ]
  },
  {
   "cell_type": "code",
   "execution_count": 21,
   "metadata": {},
   "outputs": [
    {
     "data": {
      "text/html": [
       "<div>\n",
       "<style scoped>\n",
       "    .dataframe tbody tr th:only-of-type {\n",
       "        vertical-align: middle;\n",
       "    }\n",
       "\n",
       "    .dataframe tbody tr th {\n",
       "        vertical-align: top;\n",
       "    }\n",
       "\n",
       "    .dataframe thead th {\n",
       "        text-align: right;\n",
       "    }\n",
       "</style>\n",
       "<table border=\"1\" class=\"dataframe\">\n",
       "  <thead>\n",
       "    <tr style=\"text-align: right;\">\n",
       "      <th></th>\n",
       "      <th>Book</th>\n",
       "      <th>Units</th>\n",
       "    </tr>\n",
       "  </thead>\n",
       "  <tbody>\n",
       "    <tr>\n",
       "      <th>0</th>\n",
       "      <td>B100</td>\n",
       "      <td>10.0</td>\n",
       "    </tr>\n",
       "    <tr>\n",
       "      <th>1</th>\n",
       "      <td>B100</td>\n",
       "      <td>4.0</td>\n",
       "    </tr>\n",
       "    <tr>\n",
       "      <th>2</th>\n",
       "      <td>B100</td>\n",
       "      <td>13.0</td>\n",
       "    </tr>\n",
       "    <tr>\n",
       "      <th>6</th>\n",
       "      <td>B200</td>\n",
       "      <td>14.0</td>\n",
       "    </tr>\n",
       "  </tbody>\n",
       "</table>\n",
       "</div>"
      ],
      "text/plain": [
       "   Book  Units\n",
       "0  B100   10.0\n",
       "1  B100    4.0\n",
       "2  B100   13.0\n",
       "6  B200   14.0"
      ]
     },
     "execution_count": 21,
     "metadata": {},
     "output_type": "execute_result"
    }
   ],
   "source": [
    "sales.loc[ sales.City == 'VZG' , ['Book','Units'] ]"
   ]
  },
  {
   "cell_type": "code",
   "execution_count": 22,
   "metadata": {},
   "outputs": [],
   "source": [
    "units = sales.loc[ : , 'Units']"
   ]
  },
  {
   "cell_type": "code",
   "execution_count": 23,
   "metadata": {},
   "outputs": [
    {
     "data": {
      "text/plain": [
       "pandas.core.series.Series"
      ]
     },
     "execution_count": 23,
     "metadata": {},
     "output_type": "execute_result"
    }
   ],
   "source": [
    "type(units)"
   ]
  },
  {
   "cell_type": "code",
   "execution_count": 24,
   "metadata": {},
   "outputs": [],
   "source": [
    "det = sales.loc[ : , ['Book','Units']]"
   ]
  },
  {
   "cell_type": "code",
   "execution_count": 25,
   "metadata": {},
   "outputs": [
    {
     "data": {
      "text/plain": [
       "pandas.core.frame.DataFrame"
      ]
     },
     "execution_count": 25,
     "metadata": {},
     "output_type": "execute_result"
    }
   ],
   "source": [
    "type(det)"
   ]
  },
  {
   "cell_type": "code",
   "execution_count": 26,
   "metadata": {},
   "outputs": [
    {
     "data": {
      "text/plain": [
       "RangeIndex(start=0, stop=9, step=1)"
      ]
     },
     "execution_count": 26,
     "metadata": {},
     "output_type": "execute_result"
    }
   ],
   "source": [
    "sales.index"
   ]
  },
  {
   "cell_type": "code",
   "execution_count": 27,
   "metadata": {},
   "outputs": [
    {
     "data": {
      "text/plain": [
       "Month     JAN\n",
       "Book     B100\n",
       "City      VZG\n",
       "Units      10\n",
       "Name: 0, dtype: object"
      ]
     },
     "execution_count": 27,
     "metadata": {},
     "output_type": "execute_result"
    }
   ],
   "source": [
    "sales.iloc[0,:]"
   ]
  },
  {
   "cell_type": "markdown",
   "metadata": {},
   "source": [
    "## Read data about countries"
   ]
  },
  {
   "cell_type": "code",
   "execution_count": 28,
   "metadata": {},
   "outputs": [],
   "source": [
    "import requests "
   ]
  },
  {
   "cell_type": "code",
   "execution_count": 29,
   "metadata": {},
   "outputs": [],
   "source": [
    "resp = requests.get(\"https://restcountries.eu/rest/v2/all\")"
   ]
  },
  {
   "cell_type": "code",
   "execution_count": 30,
   "metadata": {},
   "outputs": [],
   "source": [
    "cdf = pd.DataFrame(resp.json())"
   ]
  },
  {
   "cell_type": "code",
   "execution_count": 31,
   "metadata": {},
   "outputs": [
    {
     "data": {
      "text/html": [
       "<div>\n",
       "<style scoped>\n",
       "    .dataframe tbody tr th:only-of-type {\n",
       "        vertical-align: middle;\n",
       "    }\n",
       "\n",
       "    .dataframe tbody tr th {\n",
       "        vertical-align: top;\n",
       "    }\n",
       "\n",
       "    .dataframe thead th {\n",
       "        text-align: right;\n",
       "    }\n",
       "</style>\n",
       "<table border=\"1\" class=\"dataframe\">\n",
       "  <thead>\n",
       "    <tr style=\"text-align: right;\">\n",
       "      <th></th>\n",
       "      <th>alpha2Code</th>\n",
       "      <th>alpha3Code</th>\n",
       "      <th>altSpellings</th>\n",
       "      <th>area</th>\n",
       "      <th>borders</th>\n",
       "      <th>callingCodes</th>\n",
       "      <th>capital</th>\n",
       "      <th>cioc</th>\n",
       "      <th>currencies</th>\n",
       "      <th>demonym</th>\n",
       "      <th>...</th>\n",
       "      <th>name</th>\n",
       "      <th>nativeName</th>\n",
       "      <th>numericCode</th>\n",
       "      <th>population</th>\n",
       "      <th>region</th>\n",
       "      <th>regionalBlocs</th>\n",
       "      <th>subregion</th>\n",
       "      <th>timezones</th>\n",
       "      <th>topLevelDomain</th>\n",
       "      <th>translations</th>\n",
       "    </tr>\n",
       "  </thead>\n",
       "  <tbody>\n",
       "    <tr>\n",
       "      <th>0</th>\n",
       "      <td>AF</td>\n",
       "      <td>AFG</td>\n",
       "      <td>[AF, Afġānistān]</td>\n",
       "      <td>652230.0</td>\n",
       "      <td>[IRN, PAK, TKM, UZB, TJK, CHN]</td>\n",
       "      <td>[93]</td>\n",
       "      <td>Kabul</td>\n",
       "      <td>AFG</td>\n",
       "      <td>[{'code': 'AFN', 'name': 'Afghan afghani', 'sy...</td>\n",
       "      <td>Afghan</td>\n",
       "      <td>...</td>\n",
       "      <td>Afghanistan</td>\n",
       "      <td>افغانستان</td>\n",
       "      <td>004</td>\n",
       "      <td>27657145</td>\n",
       "      <td>Asia</td>\n",
       "      <td>[{'acronym': 'SAARC', 'name': 'South Asian Ass...</td>\n",
       "      <td>Southern Asia</td>\n",
       "      <td>[UTC+04:30]</td>\n",
       "      <td>[.af]</td>\n",
       "      <td>{'de': 'Afghanistan', 'es': 'Afganistán', 'fr'...</td>\n",
       "    </tr>\n",
       "    <tr>\n",
       "      <th>1</th>\n",
       "      <td>AX</td>\n",
       "      <td>ALA</td>\n",
       "      <td>[AX, Aaland, Aland, Ahvenanmaa]</td>\n",
       "      <td>1580.0</td>\n",
       "      <td>[]</td>\n",
       "      <td>[358]</td>\n",
       "      <td>Mariehamn</td>\n",
       "      <td></td>\n",
       "      <td>[{'code': 'EUR', 'name': 'Euro', 'symbol': '€'}]</td>\n",
       "      <td>Ålandish</td>\n",
       "      <td>...</td>\n",
       "      <td>Åland Islands</td>\n",
       "      <td>Åland</td>\n",
       "      <td>248</td>\n",
       "      <td>28875</td>\n",
       "      <td>Europe</td>\n",
       "      <td>[{'acronym': 'EU', 'name': 'European Union', '...</td>\n",
       "      <td>Northern Europe</td>\n",
       "      <td>[UTC+02:00]</td>\n",
       "      <td>[.ax]</td>\n",
       "      <td>{'de': 'Åland', 'es': 'Alandia', 'fr': 'Åland'...</td>\n",
       "    </tr>\n",
       "    <tr>\n",
       "      <th>2</th>\n",
       "      <td>AL</td>\n",
       "      <td>ALB</td>\n",
       "      <td>[AL, Shqipëri, Shqipëria, Shqipnia]</td>\n",
       "      <td>28748.0</td>\n",
       "      <td>[MNE, GRC, MKD, KOS]</td>\n",
       "      <td>[355]</td>\n",
       "      <td>Tirana</td>\n",
       "      <td>ALB</td>\n",
       "      <td>[{'code': 'ALL', 'name': 'Albanian lek', 'symb...</td>\n",
       "      <td>Albanian</td>\n",
       "      <td>...</td>\n",
       "      <td>Albania</td>\n",
       "      <td>Shqipëria</td>\n",
       "      <td>008</td>\n",
       "      <td>2886026</td>\n",
       "      <td>Europe</td>\n",
       "      <td>[{'acronym': 'CEFTA', 'name': 'Central Europea...</td>\n",
       "      <td>Southern Europe</td>\n",
       "      <td>[UTC+01:00]</td>\n",
       "      <td>[.al]</td>\n",
       "      <td>{'de': 'Albanien', 'es': 'Albania', 'fr': 'Alb...</td>\n",
       "    </tr>\n",
       "    <tr>\n",
       "      <th>3</th>\n",
       "      <td>DZ</td>\n",
       "      <td>DZA</td>\n",
       "      <td>[DZ, Dzayer, Algérie]</td>\n",
       "      <td>2381741.0</td>\n",
       "      <td>[TUN, LBY, NER, ESH, MRT, MLI, MAR]</td>\n",
       "      <td>[213]</td>\n",
       "      <td>Algiers</td>\n",
       "      <td>ALG</td>\n",
       "      <td>[{'code': 'DZD', 'name': 'Algerian dinar', 'sy...</td>\n",
       "      <td>Algerian</td>\n",
       "      <td>...</td>\n",
       "      <td>Algeria</td>\n",
       "      <td>الجزائر</td>\n",
       "      <td>012</td>\n",
       "      <td>40400000</td>\n",
       "      <td>Africa</td>\n",
       "      <td>[{'acronym': 'AU', 'name': 'African Union', 'o...</td>\n",
       "      <td>Northern Africa</td>\n",
       "      <td>[UTC+01:00]</td>\n",
       "      <td>[.dz]</td>\n",
       "      <td>{'de': 'Algerien', 'es': 'Argelia', 'fr': 'Alg...</td>\n",
       "    </tr>\n",
       "    <tr>\n",
       "      <th>4</th>\n",
       "      <td>AS</td>\n",
       "      <td>ASM</td>\n",
       "      <td>[AS, Amerika Sāmoa, Amelika Sāmoa, Sāmoa Amelika]</td>\n",
       "      <td>199.0</td>\n",
       "      <td>[]</td>\n",
       "      <td>[1684]</td>\n",
       "      <td>Pago Pago</td>\n",
       "      <td>ASA</td>\n",
       "      <td>[{'code': 'USD', 'name': 'United State Dollar'...</td>\n",
       "      <td>American Samoan</td>\n",
       "      <td>...</td>\n",
       "      <td>American Samoa</td>\n",
       "      <td>American Samoa</td>\n",
       "      <td>016</td>\n",
       "      <td>57100</td>\n",
       "      <td>Oceania</td>\n",
       "      <td>[]</td>\n",
       "      <td>Polynesia</td>\n",
       "      <td>[UTC-11:00]</td>\n",
       "      <td>[.as]</td>\n",
       "      <td>{'de': 'Amerikanisch-Samoa', 'es': 'Samoa Amer...</td>\n",
       "    </tr>\n",
       "  </tbody>\n",
       "</table>\n",
       "<p>5 rows × 24 columns</p>\n",
       "</div>"
      ],
      "text/plain": [
       "  alpha2Code alpha3Code                                       altSpellings  \\\n",
       "0         AF        AFG                                   [AF, Afġānistān]   \n",
       "1         AX        ALA                    [AX, Aaland, Aland, Ahvenanmaa]   \n",
       "2         AL        ALB                [AL, Shqipëri, Shqipëria, Shqipnia]   \n",
       "3         DZ        DZA                              [DZ, Dzayer, Algérie]   \n",
       "4         AS        ASM  [AS, Amerika Sāmoa, Amelika Sāmoa, Sāmoa Amelika]   \n",
       "\n",
       "        area                              borders callingCodes    capital  \\\n",
       "0   652230.0       [IRN, PAK, TKM, UZB, TJK, CHN]         [93]      Kabul   \n",
       "1     1580.0                                   []        [358]  Mariehamn   \n",
       "2    28748.0                 [MNE, GRC, MKD, KOS]        [355]     Tirana   \n",
       "3  2381741.0  [TUN, LBY, NER, ESH, MRT, MLI, MAR]        [213]    Algiers   \n",
       "4      199.0                                   []       [1684]  Pago Pago   \n",
       "\n",
       "  cioc                                         currencies          demonym  \\\n",
       "0  AFG  [{'code': 'AFN', 'name': 'Afghan afghani', 'sy...           Afghan   \n",
       "1        [{'code': 'EUR', 'name': 'Euro', 'symbol': '€'}]         Ålandish   \n",
       "2  ALB  [{'code': 'ALL', 'name': 'Albanian lek', 'symb...         Albanian   \n",
       "3  ALG  [{'code': 'DZD', 'name': 'Algerian dinar', 'sy...         Algerian   \n",
       "4  ASA  [{'code': 'USD', 'name': 'United State Dollar'...  American Samoan   \n",
       "\n",
       "                         ...                                    name  \\\n",
       "0                        ...                             Afghanistan   \n",
       "1                        ...                           Åland Islands   \n",
       "2                        ...                                 Albania   \n",
       "3                        ...                                 Algeria   \n",
       "4                        ...                          American Samoa   \n",
       "\n",
       "       nativeName numericCode population   region  \\\n",
       "0       افغانستان         004   27657145     Asia   \n",
       "1           Åland         248      28875   Europe   \n",
       "2       Shqipëria         008    2886026   Europe   \n",
       "3         الجزائر         012   40400000   Africa   \n",
       "4  American Samoa         016      57100  Oceania   \n",
       "\n",
       "                                       regionalBlocs        subregion  \\\n",
       "0  [{'acronym': 'SAARC', 'name': 'South Asian Ass...    Southern Asia   \n",
       "1  [{'acronym': 'EU', 'name': 'European Union', '...  Northern Europe   \n",
       "2  [{'acronym': 'CEFTA', 'name': 'Central Europea...  Southern Europe   \n",
       "3  [{'acronym': 'AU', 'name': 'African Union', 'o...  Northern Africa   \n",
       "4                                                 []        Polynesia   \n",
       "\n",
       "     timezones topLevelDomain  \\\n",
       "0  [UTC+04:30]          [.af]   \n",
       "1  [UTC+02:00]          [.ax]   \n",
       "2  [UTC+01:00]          [.al]   \n",
       "3  [UTC+01:00]          [.dz]   \n",
       "4  [UTC-11:00]          [.as]   \n",
       "\n",
       "                                        translations  \n",
       "0  {'de': 'Afghanistan', 'es': 'Afganistán', 'fr'...  \n",
       "1  {'de': 'Åland', 'es': 'Alandia', 'fr': 'Åland'...  \n",
       "2  {'de': 'Albanien', 'es': 'Albania', 'fr': 'Alb...  \n",
       "3  {'de': 'Algerien', 'es': 'Argelia', 'fr': 'Alg...  \n",
       "4  {'de': 'Amerikanisch-Samoa', 'es': 'Samoa Amer...  \n",
       "\n",
       "[5 rows x 24 columns]"
      ]
     },
     "execution_count": 31,
     "metadata": {},
     "output_type": "execute_result"
    }
   ],
   "source": [
    "cdf.head()"
   ]
  },
  {
   "cell_type": "code",
   "execution_count": 32,
   "metadata": {},
   "outputs": [
    {
     "data": {
      "text/html": [
       "<div>\n",
       "<style scoped>\n",
       "    .dataframe tbody tr th:only-of-type {\n",
       "        vertical-align: middle;\n",
       "    }\n",
       "\n",
       "    .dataframe tbody tr th {\n",
       "        vertical-align: top;\n",
       "    }\n",
       "\n",
       "    .dataframe thead th {\n",
       "        text-align: right;\n",
       "    }\n",
       "</style>\n",
       "<table border=\"1\" class=\"dataframe\">\n",
       "  <thead>\n",
       "    <tr style=\"text-align: right;\">\n",
       "      <th></th>\n",
       "      <th>area</th>\n",
       "      <th>gini</th>\n",
       "      <th>population</th>\n",
       "    </tr>\n",
       "  </thead>\n",
       "  <tbody>\n",
       "    <tr>\n",
       "      <th>count</th>\n",
       "      <td>2.400000e+02</td>\n",
       "      <td>153.000000</td>\n",
       "      <td>2.500000e+02</td>\n",
       "    </tr>\n",
       "    <tr>\n",
       "      <th>mean</th>\n",
       "      <td>6.262107e+05</td>\n",
       "      <td>40.177124</td>\n",
       "      <td>2.939655e+07</td>\n",
       "    </tr>\n",
       "    <tr>\n",
       "      <th>std</th>\n",
       "      <td>1.950028e+06</td>\n",
       "      <td>9.265119</td>\n",
       "      <td>1.244578e+08</td>\n",
       "    </tr>\n",
       "    <tr>\n",
       "      <th>min</th>\n",
       "      <td>4.400000e-01</td>\n",
       "      <td>24.000000</td>\n",
       "      <td>0.000000e+00</td>\n",
       "    </tr>\n",
       "    <tr>\n",
       "      <th>25%</th>\n",
       "      <td>1.533250e+03</td>\n",
       "      <td>33.700000</td>\n",
       "      <td>2.029030e+05</td>\n",
       "    </tr>\n",
       "    <tr>\n",
       "      <th>50%</th>\n",
       "      <td>7.100650e+04</td>\n",
       "      <td>38.600000</td>\n",
       "      <td>4.648734e+06</td>\n",
       "    </tr>\n",
       "    <tr>\n",
       "      <th>75%</th>\n",
       "      <td>4.146432e+05</td>\n",
       "      <td>46.200000</td>\n",
       "      <td>1.803955e+07</td>\n",
       "    </tr>\n",
       "    <tr>\n",
       "      <th>max</th>\n",
       "      <td>1.712444e+07</td>\n",
       "      <td>65.800000</td>\n",
       "      <td>1.377422e+09</td>\n",
       "    </tr>\n",
       "  </tbody>\n",
       "</table>\n",
       "</div>"
      ],
      "text/plain": [
       "               area        gini    population\n",
       "count  2.400000e+02  153.000000  2.500000e+02\n",
       "mean   6.262107e+05   40.177124  2.939655e+07\n",
       "std    1.950028e+06    9.265119  1.244578e+08\n",
       "min    4.400000e-01   24.000000  0.000000e+00\n",
       "25%    1.533250e+03   33.700000  2.029030e+05\n",
       "50%    7.100650e+04   38.600000  4.648734e+06\n",
       "75%    4.146432e+05   46.200000  1.803955e+07\n",
       "max    1.712444e+07   65.800000  1.377422e+09"
      ]
     },
     "execution_count": 32,
     "metadata": {},
     "output_type": "execute_result"
    }
   ],
   "source": [
    "cdf.describe()"
   ]
  },
  {
   "cell_type": "code",
   "execution_count": 33,
   "metadata": {},
   "outputs": [
    {
     "data": {
      "text/plain": [
       "0       27657145\n",
       "1          28875\n",
       "2        2886026\n",
       "3       40400000\n",
       "4          57100\n",
       "5          78014\n",
       "6       25868000\n",
       "7          13452\n",
       "8           1000\n",
       "9          86295\n",
       "10      43590400\n",
       "11       2994400\n",
       "12        107394\n",
       "13      24117360\n",
       "14       8725931\n",
       "15       9730500\n",
       "16        378040\n",
       "17       1404900\n",
       "18     161006790\n",
       "19        285000\n",
       "20       9498700\n",
       "21      11319511\n",
       "22        370300\n",
       "23      10653654\n",
       "24         61954\n",
       "25        775620\n",
       "26      10985059\n",
       "27         17408\n",
       "28       3531159\n",
       "29       2141206\n",
       "         ...    \n",
       "220     18564000\n",
       "221     23503349\n",
       "222      8593600\n",
       "223     55155000\n",
       "224     65327652\n",
       "225      1167242\n",
       "226      7143000\n",
       "227         1411\n",
       "228       103252\n",
       "229      1349667\n",
       "230     11154400\n",
       "231     78741053\n",
       "232      4751120\n",
       "233        31458\n",
       "234        10640\n",
       "235     33860700\n",
       "236     42692393\n",
       "237      9856000\n",
       "238     65110000\n",
       "239    323947000\n",
       "240      3480222\n",
       "241     31576400\n",
       "242       277500\n",
       "243     31028700\n",
       "244     92700000\n",
       "245        11750\n",
       "246       510713\n",
       "247     27478000\n",
       "248     15933883\n",
       "249     14240168\n",
       "Name: population, Length: 250, dtype: int64"
      ]
     },
     "execution_count": 33,
     "metadata": {},
     "output_type": "execute_result"
    }
   ],
   "source": [
    "cdf['population']"
   ]
  },
  {
   "cell_type": "code",
   "execution_count": 34,
   "metadata": {},
   "outputs": [
    {
     "name": "stdout",
     "output_type": "stream",
     "text": [
      "<class 'pandas.core.frame.DataFrame'>\n",
      "RangeIndex: 250 entries, 0 to 249\n",
      "Data columns (total 24 columns):\n",
      "alpha2Code        250 non-null object\n",
      "alpha3Code        250 non-null object\n",
      "altSpellings      250 non-null object\n",
      "area              240 non-null float64\n",
      "borders           250 non-null object\n",
      "callingCodes      250 non-null object\n",
      "capital           250 non-null object\n",
      "cioc              247 non-null object\n",
      "currencies        250 non-null object\n",
      "demonym           250 non-null object\n",
      "flag              250 non-null object\n",
      "gini              153 non-null float64\n",
      "languages         250 non-null object\n",
      "latlng            250 non-null object\n",
      "name              250 non-null object\n",
      "nativeName        250 non-null object\n",
      "numericCode       249 non-null object\n",
      "population        250 non-null int64\n",
      "region            250 non-null object\n",
      "regionalBlocs     250 non-null object\n",
      "subregion         250 non-null object\n",
      "timezones         250 non-null object\n",
      "topLevelDomain    250 non-null object\n",
      "translations      250 non-null object\n",
      "dtypes: float64(2), int64(1), object(21)\n",
      "memory usage: 47.0+ KB\n"
     ]
    }
   ],
   "source": [
    "cdf.info()"
   ]
  },
  {
   "cell_type": "markdown",
   "metadata": {},
   "source": [
    "## 11-FEB "
   ]
  },
  {
   "cell_type": "code",
   "execution_count": 35,
   "metadata": {},
   "outputs": [
    {
     "data": {
      "text/html": [
       "<div>\n",
       "<style scoped>\n",
       "    .dataframe tbody tr th:only-of-type {\n",
       "        vertical-align: middle;\n",
       "    }\n",
       "\n",
       "    .dataframe tbody tr th {\n",
       "        vertical-align: top;\n",
       "    }\n",
       "\n",
       "    .dataframe thead th {\n",
       "        text-align: right;\n",
       "    }\n",
       "</style>\n",
       "<table border=\"1\" class=\"dataframe\">\n",
       "  <thead>\n",
       "    <tr style=\"text-align: right;\">\n",
       "      <th></th>\n",
       "      <th>alpha3Code</th>\n",
       "      <th>name</th>\n",
       "      <th>capital</th>\n",
       "      <th>population</th>\n",
       "      <th>area</th>\n",
       "    </tr>\n",
       "  </thead>\n",
       "  <tbody>\n",
       "    <tr>\n",
       "      <th>0</th>\n",
       "      <td>AFG</td>\n",
       "      <td>Afghanistan</td>\n",
       "      <td>Kabul</td>\n",
       "      <td>27657145</td>\n",
       "      <td>652230.0</td>\n",
       "    </tr>\n",
       "    <tr>\n",
       "      <th>1</th>\n",
       "      <td>ALA</td>\n",
       "      <td>Åland Islands</td>\n",
       "      <td>Mariehamn</td>\n",
       "      <td>28875</td>\n",
       "      <td>1580.0</td>\n",
       "    </tr>\n",
       "    <tr>\n",
       "      <th>2</th>\n",
       "      <td>ALB</td>\n",
       "      <td>Albania</td>\n",
       "      <td>Tirana</td>\n",
       "      <td>2886026</td>\n",
       "      <td>28748.0</td>\n",
       "    </tr>\n",
       "    <tr>\n",
       "      <th>3</th>\n",
       "      <td>DZA</td>\n",
       "      <td>Algeria</td>\n",
       "      <td>Algiers</td>\n",
       "      <td>40400000</td>\n",
       "      <td>2381741.0</td>\n",
       "    </tr>\n",
       "    <tr>\n",
       "      <th>4</th>\n",
       "      <td>ASM</td>\n",
       "      <td>American Samoa</td>\n",
       "      <td>Pago Pago</td>\n",
       "      <td>57100</td>\n",
       "      <td>199.0</td>\n",
       "    </tr>\n",
       "    <tr>\n",
       "      <th>5</th>\n",
       "      <td>AND</td>\n",
       "      <td>Andorra</td>\n",
       "      <td>Andorra la Vella</td>\n",
       "      <td>78014</td>\n",
       "      <td>468.0</td>\n",
       "    </tr>\n",
       "  </tbody>\n",
       "</table>\n",
       "</div>"
      ],
      "text/plain": [
       "  alpha3Code            name           capital  population       area\n",
       "0        AFG     Afghanistan             Kabul    27657145   652230.0\n",
       "1        ALA   Åland Islands         Mariehamn       28875     1580.0\n",
       "2        ALB         Albania            Tirana     2886026    28748.0\n",
       "3        DZA         Algeria           Algiers    40400000  2381741.0\n",
       "4        ASM  American Samoa         Pago Pago       57100      199.0\n",
       "5        AND         Andorra  Andorra la Vella       78014      468.0"
      ]
     },
     "execution_count": 35,
     "metadata": {},
     "output_type": "execute_result"
    }
   ],
   "source": [
    "# cdf[ ['alpha3Code','name','capital','population','area']].head()\n",
    "cdf.loc[:5, ['alpha3Code','name','capital','population','area']]"
   ]
  },
  {
   "cell_type": "code",
   "execution_count": 36,
   "metadata": {},
   "outputs": [],
   "source": [
    "def get_codes(lst):\n",
    "    return lst[0]['code']"
   ]
  },
  {
   "cell_type": "code",
   "execution_count": 37,
   "metadata": {},
   "outputs": [],
   "source": [
    "c = cdf['currencies'].apply(get_codes).head()"
   ]
  },
  {
   "cell_type": "code",
   "execution_count": 38,
   "metadata": {},
   "outputs": [
    {
     "data": {
      "text/plain": [
       "0    AFN\n",
       "1    EUR\n",
       "2    ALL\n",
       "3    DZD\n",
       "4    USD\n",
       "Name: currencies, dtype: object"
      ]
     },
     "execution_count": 38,
     "metadata": {},
     "output_type": "execute_result"
    }
   ],
   "source": [
    "c"
   ]
  },
  {
   "cell_type": "code",
   "execution_count": 39,
   "metadata": {},
   "outputs": [],
   "source": [
    "def get_all_codes(lst):\n",
    "    codes = []\n",
    "    for c in lst:\n",
    "        if 'code' in c and c['code'] is not None:\n",
    "           codes.append( c['code'])\n",
    "        \n",
    "    return \",\".join(codes)            "
   ]
  },
  {
   "cell_type": "code",
   "execution_count": 40,
   "metadata": {},
   "outputs": [
    {
     "data": {
      "text/plain": [
       "0         AFN\n",
       "1         EUR\n",
       "2         ALL\n",
       "3         DZD\n",
       "4         USD\n",
       "5         EUR\n",
       "6         AOA\n",
       "7         XCD\n",
       "8     AUD,GBP\n",
       "9         XCD\n",
       "10        ARS\n",
       "11        AMD\n",
       "12        AWG\n",
       "13        AUD\n",
       "14        EUR\n",
       "15        AZN\n",
       "16        BSD\n",
       "17        BHD\n",
       "18        BDT\n",
       "19        BBD\n",
       "20    BYN,BYR\n",
       "21        EUR\n",
       "22        BZD\n",
       "23        XOF\n",
       "24        BMD\n",
       "Name: currencies, dtype: object"
      ]
     },
     "execution_count": 40,
     "metadata": {},
     "output_type": "execute_result"
    }
   ],
   "source": [
    "cdf['currencies'].apply(get_all_codes).head(25)"
   ]
  },
  {
   "cell_type": "code",
   "execution_count": 41,
   "metadata": {},
   "outputs": [
    {
     "data": {
      "text/plain": [
       "[{'code': 'AUD', 'name': 'Australian dollar', 'symbol': '$'},\n",
       " {'code': 'GBP', 'name': 'British pound', 'symbol': '£'}]"
      ]
     },
     "execution_count": 41,
     "metadata": {},
     "output_type": "execute_result"
    }
   ],
   "source": [
    "cdf.loc[8,'currencies']"
   ]
  },
  {
   "cell_type": "code",
   "execution_count": 42,
   "metadata": {},
   "outputs": [
    {
     "data": {
      "text/plain": [
       "[{'code': 'AUD', 'name': 'Australian dollar', 'symbol': '$'},\n",
       " {'code': 'GBP', 'name': 'British pound', 'symbol': '£'}]"
      ]
     },
     "execution_count": 42,
     "metadata": {},
     "output_type": "execute_result"
    }
   ],
   "source": [
    "cdf.at[8,'currencies']"
   ]
  },
  {
   "cell_type": "code",
   "execution_count": 43,
   "metadata": {},
   "outputs": [],
   "source": [
    "cor = 10000000"
   ]
  },
  {
   "cell_type": "code",
   "execution_count": 44,
   "metadata": {},
   "outputs": [],
   "source": [
    "def  has_border(lst):\n",
    "    return len(lst) > 0\n",
    "\n",
    "def  has_no_border(lst):\n",
    "     return  len(lst) == 0"
   ]
  },
  {
   "cell_type": "code",
   "execution_count": 45,
   "metadata": {},
   "outputs": [
    {
     "data": {
      "text/html": [
       "<div>\n",
       "<style scoped>\n",
       "    .dataframe tbody tr th:only-of-type {\n",
       "        vertical-align: middle;\n",
       "    }\n",
       "\n",
       "    .dataframe tbody tr th {\n",
       "        vertical-align: top;\n",
       "    }\n",
       "\n",
       "    .dataframe thead th {\n",
       "        text-align: right;\n",
       "    }\n",
       "</style>\n",
       "<table border=\"1\" class=\"dataframe\">\n",
       "  <thead>\n",
       "    <tr style=\"text-align: right;\">\n",
       "      <th></th>\n",
       "      <th>alpha2Code</th>\n",
       "      <th>alpha3Code</th>\n",
       "      <th>altSpellings</th>\n",
       "      <th>area</th>\n",
       "      <th>borders</th>\n",
       "      <th>callingCodes</th>\n",
       "      <th>capital</th>\n",
       "      <th>cioc</th>\n",
       "      <th>currencies</th>\n",
       "      <th>demonym</th>\n",
       "      <th>...</th>\n",
       "      <th>name</th>\n",
       "      <th>nativeName</th>\n",
       "      <th>numericCode</th>\n",
       "      <th>population</th>\n",
       "      <th>region</th>\n",
       "      <th>regionalBlocs</th>\n",
       "      <th>subregion</th>\n",
       "      <th>timezones</th>\n",
       "      <th>topLevelDomain</th>\n",
       "      <th>translations</th>\n",
       "    </tr>\n",
       "  </thead>\n",
       "  <tbody>\n",
       "    <tr>\n",
       "      <th>1</th>\n",
       "      <td>AX</td>\n",
       "      <td>ALA</td>\n",
       "      <td>[AX, Aaland, Aland, Ahvenanmaa]</td>\n",
       "      <td>1580.0</td>\n",
       "      <td>[]</td>\n",
       "      <td>[358]</td>\n",
       "      <td>Mariehamn</td>\n",
       "      <td></td>\n",
       "      <td>[{'code': 'EUR', 'name': 'Euro', 'symbol': '€'}]</td>\n",
       "      <td>Ålandish</td>\n",
       "      <td>...</td>\n",
       "      <td>Åland Islands</td>\n",
       "      <td>Åland</td>\n",
       "      <td>248</td>\n",
       "      <td>28875</td>\n",
       "      <td>Europe</td>\n",
       "      <td>[{'acronym': 'EU', 'name': 'European Union', '...</td>\n",
       "      <td>Northern Europe</td>\n",
       "      <td>[UTC+02:00]</td>\n",
       "      <td>[.ax]</td>\n",
       "      <td>{'de': 'Åland', 'es': 'Alandia', 'fr': 'Åland'...</td>\n",
       "    </tr>\n",
       "    <tr>\n",
       "      <th>4</th>\n",
       "      <td>AS</td>\n",
       "      <td>ASM</td>\n",
       "      <td>[AS, Amerika Sāmoa, Amelika Sāmoa, Sāmoa Amelika]</td>\n",
       "      <td>199.0</td>\n",
       "      <td>[]</td>\n",
       "      <td>[1684]</td>\n",
       "      <td>Pago Pago</td>\n",
       "      <td>ASA</td>\n",
       "      <td>[{'code': 'USD', 'name': 'United State Dollar'...</td>\n",
       "      <td>American Samoan</td>\n",
       "      <td>...</td>\n",
       "      <td>American Samoa</td>\n",
       "      <td>American Samoa</td>\n",
       "      <td>016</td>\n",
       "      <td>57100</td>\n",
       "      <td>Oceania</td>\n",
       "      <td>[]</td>\n",
       "      <td>Polynesia</td>\n",
       "      <td>[UTC-11:00]</td>\n",
       "      <td>[.as]</td>\n",
       "      <td>{'de': 'Amerikanisch-Samoa', 'es': 'Samoa Amer...</td>\n",
       "    </tr>\n",
       "    <tr>\n",
       "      <th>7</th>\n",
       "      <td>AI</td>\n",
       "      <td>AIA</td>\n",
       "      <td>[AI]</td>\n",
       "      <td>91.0</td>\n",
       "      <td>[]</td>\n",
       "      <td>[1264]</td>\n",
       "      <td>The Valley</td>\n",
       "      <td></td>\n",
       "      <td>[{'code': 'XCD', 'name': 'East Caribbean dolla...</td>\n",
       "      <td>Anguillian</td>\n",
       "      <td>...</td>\n",
       "      <td>Anguilla</td>\n",
       "      <td>Anguilla</td>\n",
       "      <td>660</td>\n",
       "      <td>13452</td>\n",
       "      <td>Americas</td>\n",
       "      <td>[]</td>\n",
       "      <td>Caribbean</td>\n",
       "      <td>[UTC-04:00]</td>\n",
       "      <td>[.ai]</td>\n",
       "      <td>{'de': 'Anguilla', 'es': 'Anguilla', 'fr': 'An...</td>\n",
       "    </tr>\n",
       "    <tr>\n",
       "      <th>8</th>\n",
       "      <td>AQ</td>\n",
       "      <td>ATA</td>\n",
       "      <td>[]</td>\n",
       "      <td>14000000.0</td>\n",
       "      <td>[]</td>\n",
       "      <td>[672]</td>\n",
       "      <td></td>\n",
       "      <td></td>\n",
       "      <td>[{'code': 'AUD', 'name': 'Australian dollar', ...</td>\n",
       "      <td></td>\n",
       "      <td>...</td>\n",
       "      <td>Antarctica</td>\n",
       "      <td>Antarctica</td>\n",
       "      <td>010</td>\n",
       "      <td>1000</td>\n",
       "      <td>Polar</td>\n",
       "      <td>[]</td>\n",
       "      <td></td>\n",
       "      <td>[UTC-03:00, UTC+03:00, UTC+05:00, UTC+06:00, U...</td>\n",
       "      <td>[.aq]</td>\n",
       "      <td>{'de': 'Antarktika', 'es': 'Antártida', 'fr': ...</td>\n",
       "    </tr>\n",
       "    <tr>\n",
       "      <th>9</th>\n",
       "      <td>AG</td>\n",
       "      <td>ATG</td>\n",
       "      <td>[AG]</td>\n",
       "      <td>442.0</td>\n",
       "      <td>[]</td>\n",
       "      <td>[1268]</td>\n",
       "      <td>Saint John's</td>\n",
       "      <td>ANT</td>\n",
       "      <td>[{'code': 'XCD', 'name': 'East Caribbean dolla...</td>\n",
       "      <td>Antiguan, Barbudan</td>\n",
       "      <td>...</td>\n",
       "      <td>Antigua and Barbuda</td>\n",
       "      <td>Antigua and Barbuda</td>\n",
       "      <td>028</td>\n",
       "      <td>86295</td>\n",
       "      <td>Americas</td>\n",
       "      <td>[{'acronym': 'CARICOM', 'name': 'Caribbean Com...</td>\n",
       "      <td>Caribbean</td>\n",
       "      <td>[UTC-04:00]</td>\n",
       "      <td>[.ag]</td>\n",
       "      <td>{'de': 'Antigua und Barbuda', 'es': 'Antigua y...</td>\n",
       "    </tr>\n",
       "  </tbody>\n",
       "</table>\n",
       "<p>5 rows × 24 columns</p>\n",
       "</div>"
      ],
      "text/plain": [
       "  alpha2Code alpha3Code                                       altSpellings  \\\n",
       "1         AX        ALA                    [AX, Aaland, Aland, Ahvenanmaa]   \n",
       "4         AS        ASM  [AS, Amerika Sāmoa, Amelika Sāmoa, Sāmoa Amelika]   \n",
       "7         AI        AIA                                               [AI]   \n",
       "8         AQ        ATA                                                 []   \n",
       "9         AG        ATG                                               [AG]   \n",
       "\n",
       "         area borders callingCodes       capital cioc  \\\n",
       "1      1580.0      []        [358]     Mariehamn        \n",
       "4       199.0      []       [1684]     Pago Pago  ASA   \n",
       "7        91.0      []       [1264]    The Valley        \n",
       "8  14000000.0      []        [672]                      \n",
       "9       442.0      []       [1268]  Saint John's  ANT   \n",
       "\n",
       "                                          currencies             demonym  \\\n",
       "1   [{'code': 'EUR', 'name': 'Euro', 'symbol': '€'}]            Ålandish   \n",
       "4  [{'code': 'USD', 'name': 'United State Dollar'...     American Samoan   \n",
       "7  [{'code': 'XCD', 'name': 'East Caribbean dolla...          Anguillian   \n",
       "8  [{'code': 'AUD', 'name': 'Australian dollar', ...                       \n",
       "9  [{'code': 'XCD', 'name': 'East Caribbean dolla...  Antiguan, Barbudan   \n",
       "\n",
       "                         ...                                         name  \\\n",
       "1                        ...                                Åland Islands   \n",
       "4                        ...                               American Samoa   \n",
       "7                        ...                                     Anguilla   \n",
       "8                        ...                                   Antarctica   \n",
       "9                        ...                          Antigua and Barbuda   \n",
       "\n",
       "            nativeName numericCode population    region  \\\n",
       "1                Åland         248      28875    Europe   \n",
       "4       American Samoa         016      57100   Oceania   \n",
       "7             Anguilla         660      13452  Americas   \n",
       "8           Antarctica         010       1000     Polar   \n",
       "9  Antigua and Barbuda         028      86295  Americas   \n",
       "\n",
       "                                       regionalBlocs        subregion  \\\n",
       "1  [{'acronym': 'EU', 'name': 'European Union', '...  Northern Europe   \n",
       "4                                                 []        Polynesia   \n",
       "7                                                 []        Caribbean   \n",
       "8                                                 []                    \n",
       "9  [{'acronym': 'CARICOM', 'name': 'Caribbean Com...        Caribbean   \n",
       "\n",
       "                                           timezones topLevelDomain  \\\n",
       "1                                        [UTC+02:00]          [.ax]   \n",
       "4                                        [UTC-11:00]          [.as]   \n",
       "7                                        [UTC-04:00]          [.ai]   \n",
       "8  [UTC-03:00, UTC+03:00, UTC+05:00, UTC+06:00, U...          [.aq]   \n",
       "9                                        [UTC-04:00]          [.ag]   \n",
       "\n",
       "                                        translations  \n",
       "1  {'de': 'Åland', 'es': 'Alandia', 'fr': 'Åland'...  \n",
       "4  {'de': 'Amerikanisch-Samoa', 'es': 'Samoa Amer...  \n",
       "7  {'de': 'Anguilla', 'es': 'Anguilla', 'fr': 'An...  \n",
       "8  {'de': 'Antarktika', 'es': 'Antártida', 'fr': ...  \n",
       "9  {'de': 'Antigua und Barbuda', 'es': 'Antigua y...  \n",
       "\n",
       "[5 rows x 24 columns]"
      ]
     },
     "execution_count": 45,
     "metadata": {},
     "output_type": "execute_result"
    }
   ],
   "source": [
    "cdf[cdf['borders'].apply(has_no_border)].head()"
   ]
  },
  {
   "cell_type": "code",
   "execution_count": 46,
   "metadata": {},
   "outputs": [
    {
     "name": "stdout",
     "output_type": "stream",
     "text": [
      "<class 'pandas.core.frame.DataFrame'>\n",
      "RangeIndex: 250 entries, 0 to 249\n",
      "Data columns (total 24 columns):\n",
      "alpha2Code        250 non-null object\n",
      "alpha3Code        250 non-null object\n",
      "altSpellings      250 non-null object\n",
      "area              240 non-null float64\n",
      "borders           250 non-null object\n",
      "callingCodes      250 non-null object\n",
      "capital           250 non-null object\n",
      "cioc              247 non-null object\n",
      "currencies        250 non-null object\n",
      "demonym           250 non-null object\n",
      "flag              250 non-null object\n",
      "gini              153 non-null float64\n",
      "languages         250 non-null object\n",
      "latlng            250 non-null object\n",
      "name              250 non-null object\n",
      "nativeName        250 non-null object\n",
      "numericCode       249 non-null object\n",
      "population        250 non-null int64\n",
      "region            250 non-null object\n",
      "regionalBlocs     250 non-null object\n",
      "subregion         250 non-null object\n",
      "timezones         250 non-null object\n",
      "topLevelDomain    250 non-null object\n",
      "translations      250 non-null object\n",
      "dtypes: float64(2), int64(1), object(21)\n",
      "memory usage: 47.0+ KB\n"
     ]
    }
   ],
   "source": [
    "cdf.info()"
   ]
  },
  {
   "cell_type": "code",
   "execution_count": 47,
   "metadata": {},
   "outputs": [
    {
     "data": {
      "text/plain": [
       "185    17124442.0\n",
       "8      14000000.0\n",
       "42      9984670.0\n",
       "48      9640011.0\n",
       "239     9629091.0\n",
       "Name: area, dtype: float64"
      ]
     },
     "execution_count": 47,
     "metadata": {},
     "output_type": "execute_result"
    }
   ],
   "source": [
    "cdf['area'].sort_values(ascending=False).head()"
   ]
  },
  {
   "cell_type": "code",
   "execution_count": null,
   "metadata": {},
   "outputs": [],
   "source": [
    "cdf.loc[top5.index,['name','region','area','population']]"
   ]
  },
  {
   "cell_type": "code",
   "execution_count": null,
   "metadata": {},
   "outputs": [],
   "source": [
    "cdf[ (cdf['region'] == 'Asia') & (cdf['area'] > 3000000) ]"
   ]
  },
  {
   "cell_type": "code",
   "execution_count": null,
   "metadata": {},
   "outputs": [],
   "source": [
    "cdf.at[0,'alpha3Code']"
   ]
  },
  {
   "cell_type": "code",
   "execution_count": null,
   "metadata": {},
   "outputs": [],
   "source": [
    "cdf.sample(n=10)"
   ]
  },
  {
   "cell_type": "code",
   "execution_count": null,
   "metadata": {},
   "outputs": [],
   "source": [
    "cdf[ ['name','capital','region']].isin({'region': ['Asia','Africa']})"
   ]
  },
  {
   "cell_type": "code",
   "execution_count": null,
   "metadata": {},
   "outputs": [],
   "source": [
    "cdf.info()"
   ]
  },
  {
   "cell_type": "code",
   "execution_count": null,
   "metadata": {},
   "outputs": [],
   "source": [
    "top_den_cl = (cdf['population'] / cdf['area']).sort_values(ascending=False).head()\n",
    "top_den_cl"
   ]
  },
  {
   "cell_type": "code",
   "execution_count": null,
   "metadata": {},
   "outputs": [],
   "source": [
    "cdf.loc[top_den_cl.index]"
   ]
  },
  {
   "cell_type": "code",
   "execution_count": null,
   "metadata": {},
   "outputs": [],
   "source": [
    "nd = pd.DataFrame({'name' : cdf['name'], 'borders' : cdf['borders'].str.join(\",\")})"
   ]
  },
  {
   "cell_type": "code",
   "execution_count": null,
   "metadata": {},
   "outputs": [],
   "source": [
    "nd"
   ]
  },
  {
   "cell_type": "code",
   "execution_count": null,
   "metadata": {},
   "outputs": [],
   "source": [
    "sales"
   ]
  },
  {
   "cell_type": "code",
   "execution_count": null,
   "metadata": {},
   "outputs": [],
   "source": [
    "sales.loc[:,['City','Units']].apply(lambda s : s.count())"
   ]
  },
  {
   "cell_type": "code",
   "execution_count": null,
   "metadata": {},
   "outputs": [],
   "source": [
    "sales.applymap(lambda v : 'Null' if v is np.nan else v)"
   ]
  },
  {
   "cell_type": "code",
   "execution_count": null,
   "metadata": {},
   "outputs": [],
   "source": [
    "sales"
   ]
  },
  {
   "cell_type": "code",
   "execution_count": null,
   "metadata": {},
   "outputs": [],
   "source": [
    "sales.info()\n"
   ]
  },
  {
   "cell_type": "code",
   "execution_count": null,
   "metadata": {},
   "outputs": [],
   "source": [
    "sales = sales.append( {'Month':'FEB','Book' : 'B300', 'City': 'VZG','Units' : 10}, ignore_index=True)"
   ]
  },
  {
   "cell_type": "code",
   "execution_count": null,
   "metadata": {},
   "outputs": [],
   "source": [
    "sales"
   ]
  },
  {
   "cell_type": "code",
   "execution_count": null,
   "metadata": {},
   "outputs": [],
   "source": [
    "sales.loc[:5, ['Year']] = 2018"
   ]
  },
  {
   "cell_type": "code",
   "execution_count": null,
   "metadata": {},
   "outputs": [],
   "source": [
    "sales['Diff'] = sales['Units'] - 5"
   ]
  },
  {
   "cell_type": "code",
   "execution_count": null,
   "metadata": {},
   "outputs": [],
   "source": [
    "sales.drop(['Year','Diff'], axis=1, inplace=True)"
   ]
  },
  {
   "cell_type": "code",
   "execution_count": null,
   "metadata": {},
   "outputs": [],
   "source": [
    "sales"
   ]
  },
  {
   "cell_type": "code",
   "execution_count": null,
   "metadata": {},
   "outputs": [],
   "source": [
    "cdf['strborders'] = cdf['borders'].str.join(\",\")"
   ]
  },
  {
   "cell_type": "code",
   "execution_count": null,
   "metadata": {},
   "outputs": [],
   "source": [
    "cdf['strborders'].head()"
   ]
  },
  {
   "cell_type": "code",
   "execution_count": null,
   "metadata": {},
   "outputs": [],
   "source": [
    "cdf.head()"
   ]
  },
  {
   "cell_type": "code",
   "execution_count": null,
   "metadata": {},
   "outputs": [],
   "source": [
    "df = pd.DataFrame({'c1':[1,2], 'c2': [100,200]})"
   ]
  },
  {
   "cell_type": "code",
   "execution_count": null,
   "metadata": {},
   "outputs": [],
   "source": [
    "df"
   ]
  },
  {
   "cell_type": "code",
   "execution_count": null,
   "metadata": {},
   "outputs": [],
   "source": [
    "df = df.set_index('c1')"
   ]
  },
  {
   "cell_type": "code",
   "execution_count": null,
   "metadata": {},
   "outputs": [],
   "source": [
    "df"
   ]
  },
  {
   "cell_type": "code",
   "execution_count": null,
   "metadata": {},
   "outputs": [],
   "source": [
    "df.loc[2,:]"
   ]
  },
  {
   "cell_type": "code",
   "execution_count": null,
   "metadata": {},
   "outputs": [],
   "source": [
    "cdf.set_index(['alpha3Code'])"
   ]
  },
  {
   "cell_type": "code",
   "execution_count": null,
   "metadata": {},
   "outputs": [],
   "source": [
    "sales"
   ]
  },
  {
   "cell_type": "code",
   "execution_count": null,
   "metadata": {},
   "outputs": [],
   "source": [
    "sales.sort_values(['Month'])"
   ]
  },
  {
   "cell_type": "code",
   "execution_count": null,
   "metadata": {},
   "outputs": [],
   "source": [
    "sales.sort_index()"
   ]
  },
  {
   "cell_type": "code",
   "execution_count": null,
   "metadata": {},
   "outputs": [],
   "source": [
    "sdf = sales.copy()"
   ]
  },
  {
   "cell_type": "code",
   "execution_count": null,
   "metadata": {},
   "outputs": [],
   "source": [
    "sdf.drop([4],axis=0, inplace=True)"
   ]
  },
  {
   "cell_type": "code",
   "execution_count": null,
   "metadata": {},
   "outputs": [],
   "source": [
    "sdf = sdf.reset_index()"
   ]
  },
  {
   "cell_type": "code",
   "execution_count": null,
   "metadata": {},
   "outputs": [],
   "source": [
    "sdf.columns"
   ]
  },
  {
   "cell_type": "code",
   "execution_count": null,
   "metadata": {},
   "outputs": [],
   "source": [
    "sdf.drop(['index'], axis=1, inplace=True)"
   ]
  },
  {
   "cell_type": "code",
   "execution_count": null,
   "metadata": {},
   "outputs": [],
   "source": [
    "sdf"
   ]
  },
  {
   "cell_type": "code",
   "execution_count": null,
   "metadata": {},
   "outputs": [],
   "source": [
    "sales.sort_values(['Month','Book','City'])"
   ]
  },
  {
   "cell_type": "code",
   "execution_count": null,
   "metadata": {},
   "outputs": [],
   "source": [
    "cdf['region'].value_counts()"
   ]
  },
  {
   "cell_type": "code",
   "execution_count": null,
   "metadata": {},
   "outputs": [],
   "source": [
    "sales['Book'].value_counts()"
   ]
  },
  {
   "cell_type": "code",
   "execution_count": null,
   "metadata": {},
   "outputs": [],
   "source": [
    "sales"
   ]
  },
  {
   "cell_type": "code",
   "execution_count": null,
   "metadata": {},
   "outputs": [],
   "source": [
    "cdf['region'].nunique()"
   ]
  },
  {
   "cell_type": "code",
   "execution_count": null,
   "metadata": {},
   "outputs": [],
   "source": [
    "sales.isna().any(axis=1)"
   ]
  },
  {
   "cell_type": "code",
   "execution_count": null,
   "metadata": {},
   "outputs": [],
   "source": [
    "sales.loc[ sales.isna().any(axis=1), :]"
   ]
  },
  {
   "cell_type": "code",
   "execution_count": null,
   "metadata": {},
   "outputs": [],
   "source": [
    "sales['Book'].isna().any()"
   ]
  },
  {
   "cell_type": "code",
   "execution_count": null,
   "metadata": {},
   "outputs": [],
   "source": [
    "sales.info()"
   ]
  },
  {
   "cell_type": "code",
   "execution_count": null,
   "metadata": {},
   "outputs": [],
   "source": [
    "sales.loc[ :,sales.notna().all()]"
   ]
  },
  {
   "cell_type": "code",
   "execution_count": null,
   "metadata": {},
   "outputs": [],
   "source": [
    "sales.dropna()"
   ]
  },
  {
   "cell_type": "code",
   "execution_count": null,
   "metadata": {},
   "outputs": [],
   "source": [
    "sales.fillna(0)"
   ]
  },
  {
   "cell_type": "code",
   "execution_count": null,
   "metadata": {},
   "outputs": [],
   "source": []
  }
 ],
 "metadata": {
  "kernelspec": {
   "display_name": "Python 3",
   "language": "python",
   "name": "python3"
  },
  "language_info": {
   "codemirror_mode": {
    "name": "ipython",
    "version": 3
   },
   "file_extension": ".py",
   "mimetype": "text/x-python",
   "name": "python",
   "nbconvert_exporter": "python",
   "pygments_lexer": "ipython3",
   "version": "3.7.1"
  }
 },
 "nbformat": 4,
 "nbformat_minor": 2
}
